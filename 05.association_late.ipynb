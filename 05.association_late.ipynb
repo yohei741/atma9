{
 "metadata": {
  "language_info": {
   "codemirror_mode": {
    "name": "ipython",
    "version": 3
   },
   "file_extension": ".py",
   "mimetype": "text/x-python",
   "name": "python",
   "nbconvert_exporter": "python",
   "pygments_lexer": "ipython3",
   "version": "3.7.7"
  },
  "orig_nbformat": 2,
  "kernelspec": {
   "name": "python3",
   "display_name": "Python 3.7.7 64-bit ('myenv': conda)",
   "metadata": {
    "interpreter": {
     "hash": "ed83370391f807b6b01faf5f4a67a73eb40695c7e50ef8dc174676d2127d1775"
    }
   }
  }
 },
 "nbformat": 4,
 "nbformat_minor": 2,
 "cells": [
  {
   "source": [
    "# アソシエーション分析をやってみた\n",
    "- mlxtend モジュール使いやすい\n",
    "- 今回は以下２つを使用  \n",
    "  1. 「support（出現確率）」\n",
    "  1. 「lift（同時出現の強さ）」\n"
   ],
   "cell_type": "markdown",
   "metadata": {}
  },
  {
   "cell_type": "code",
   "execution_count": 5,
   "metadata": {},
   "outputs": [],
   "source": [
    "import pandas as pd\n",
    "import matplotlib.pyplot as plt\n",
    "import numpy as np\n",
    "\n",
    "from mlxtend.frequent_patterns import apriori\n",
    "from mlxtend.frequent_patterns import association_rules\n",
    "\n",
    "INPUT_DIR = \"../input\"\n",
    "OUTPUT_DIR = \"../reference\"\n",
    "\n",
    "pd.set_option(\"display.max_columns\", 800)\n",
    "pd.set_option(\"display.max_rows\", 300)"
   ]
  },
  {
   "cell_type": "code",
   "execution_count": 6,
   "metadata": {},
   "outputs": [],
   "source": [
    "product_master_df = pd.read_csv(os.path.join(INPUT_DIR, 'product_master.csv'), dtype={ 'JAN': str })\n",
    "\n",
    "log_df = pd.read_csv(os.path.join(INPUT_DIR, 'carlog.csv'), dtype={ 'value_1': str }, date_parser=['date'])\n",
    "\n",
    "test_df = pd.read_csv(os.path.join(INPUT_DIR, 'test.csv'))"
   ]
  },
  {
   "source": [
    "trainデータに限定する"
   ],
   "cell_type": "markdown",
   "metadata": {}
  },
  {
   "cell_type": "code",
   "execution_count": 7,
   "metadata": {},
   "outputs": [],
   "source": [
    "test_sessions = test_df[\"session_id\"].unique()\n",
    "idx_test = log_df[\"session_id\"].isin(test_sessions)\n",
    "log_df = log_df[~idx_test].reset_index(drop=True)"
   ]
  },
  {
   "cell_type": "code",
   "execution_count": 8,
   "metadata": {},
   "outputs": [
    {
     "output_type": "execute_result",
     "data": {
      "text/plain": [
       "(14299716, 18)"
      ]
     },
     "metadata": {},
     "execution_count": 8
    }
   ],
   "source": [
    "log_df.shape"
   ]
  },
  {
   "cell_type": "code",
   "execution_count": 10,
   "metadata": {},
   "outputs": [],
   "source": [
    "TARGET_CATEGORIES = [\n",
    "    # お酒に関するもの\n",
    "    'ビール系__RTD', 'ビール系__ビール系', 'ビール系__ノンアルコール',\n",
    "\n",
    "    # お菓子に関するもの\n",
    "    'スナック・キャンディー__スナック', \n",
    "    'チョコ・ビスクラ__チョコレート', \n",
    "    'スナック・キャンディー__ガム', \n",
    "    'スナック・キャンディー__シリアル',\n",
    "    'アイスクリーム__ノベルティー', \n",
    "    '和菓子__米菓',\n",
    "\n",
    "    # 飲料に関するもの\n",
    "    '水・炭酸水__大型PET（炭酸水）',\n",
    "    '水・炭酸水__小型PET（炭酸水）',\n",
    "    '缶飲料__コーヒー（缶）',\n",
    "    '小型PET__コーヒー（小型PET）',\n",
    "    '大型PET__無糖茶（大型PET）',\n",
    "\n",
    "    # 麺類\n",
    "    '麺類__カップ麺',\n",
    "]"
   ]
  },
  {
   "cell_type": "code",
   "execution_count": 21,
   "metadata": {},
   "outputs": [],
   "source": [
    "cat2id = dict(zip(product_master_df[\"category_name\"], product_master_df[\"category_id\"]))\n",
    "\n",
    "id2cat = dict(zip(product_master_df[\"category_id\"], product_master_df[\"category_name\"]))"
   ]
  },
  {
   "cell_type": "code",
   "execution_count": 14,
   "metadata": {},
   "outputs": [],
   "source": [
    "TARGET_IDS = pd.Series(TARGET_CATEGORIES).map(cat2id).values.tolist()\n",
    "category_id2code = dict(zip(TARGET_IDS, TARGET_CATEGORIES))"
   ]
  },
  {
   "cell_type": "code",
   "execution_count": 15,
   "metadata": {},
   "outputs": [],
   "source": [
    "def only_payment_session_record(input_log_df):\n",
    "    \"\"\"支払いが紐づくセッションへ絞り込みを行なう\"\"\"\n",
    "    payed_sessions = input_log_df[input_log_df['is_payment'] == 1]['session_id'].unique()\n",
    "    idx = input_log_df['session_id'].isin(payed_sessions)\n",
    "    out_df = input_log_df[idx].reset_index(drop=True)\n",
    "    return out_df\n",
    "\n",
    "\n",
    "def only_purchase_records(input_df: pd.DataFrame) -> pd.DataFrame:\n",
    "    idx = input_df['kind_1'] == '商品'\n",
    "    out_df = input_df[idx].reset_index(drop=True)\n",
    "    return out_df\n",
    "\n",
    "\n",
    "def create_payment(input_df: pd.DataFrame) -> pd.DataFrame:\n",
    "    \"\"\"\n",
    "    ログデータから session_id / JAN ごとの購買情報に変換します.\n",
    "\n",
    "    Args:\n",
    "        input_df:\n",
    "            レジカートログデータ\n",
    "\n",
    "    Returns:\n",
    "        session_id, JAN, n_items (合計購買数) の DataFrame\n",
    "    \"\"\"\n",
    "\n",
    "    # 購買情報は商品のものだけ.\n",
    "    out_df = only_purchase_records(input_df)\n",
    "    out_df = out_df.groupby(['session_id', 'value_1'])['n_items'].sum().reset_index()\n",
    "    out_df = out_df.rename(columns={\n",
    "        'value_1': 'JAN'\n",
    "    })\n",
    "    return out_df\n",
    "\n",
    "\n",
    "def annot_category(input_df: pd.DataFrame,\n",
    "                   master_df: pd.DataFrame):\n",
    "    \"\"\"\n",
    "    カテゴリ ID をひも付けます.\n",
    "\n",
    "    Args:\n",
    "        input_df:\n",
    "            変換するデータ.\n",
    "            `value_1`  or `JAN` を column として持っている必要があります.\n",
    "        master_df:\n",
    "            商品マスタのデータフレーム\n",
    "\n",
    "    Returns:\n",
    "\n",
    "    \"\"\"\n",
    "    input_df = input_df.rename(columns={'value_1': 'JAN'})\n",
    "    out_df = pd.merge(input_df['JAN'],\n",
    "                      master_df[['JAN', 'category_id']], on='JAN', how='left')\n",
    "    return out_df['category_id']\n",
    "\n",
    "\n",
    "def make_pay_df(log_df):\n",
    "    log_df = only_payment_session_record(log_df)\n",
    "    pay_df = create_payment(log_df)\n",
    "    pay_df['category_id'] = annot_category(pay_df, master_df=product_master_df)\n",
    "\n",
    "    # null の category を削除. JAN が紐付かない時に発生する.\n",
    "    idx_null = pay_df['category_id'].isnull()\n",
    "    pay_df = pay_df[~idx_null].reset_index(drop=True)\n",
    "    # Nullが混じっている時 float になるため int へ明示的に戻す\n",
    "    pay_df['category_id'] = pay_df['category_id'].astype(int)\n",
    "    return pay_df"
   ]
  },
  {
   "source": [
    "## アソシエーション分析"
   ],
   "cell_type": "markdown",
   "metadata": {}
  },
  {
   "cell_type": "code",
   "execution_count": 16,
   "metadata": {},
   "outputs": [
    {
     "output_type": "stream",
     "name": "stdout",
     "text": [
      "677\n"
     ]
    }
   ],
   "source": [
    "pay_df = make_pay_df(log_df)\n",
    "print(pay_df[\"category_id\"].nunique())"
   ]
  },
  {
   "source": [
    "セッション（basket）ごとに、どのカテゴリの商品を購入したかのピボットテーブルを作成\n",
    "- 横持ちで買った/買っていないを1/0で表したテーブルが必要"
   ],
   "cell_type": "markdown",
   "metadata": {}
  },
  {
   "cell_type": "code",
   "execution_count": 18,
   "metadata": {},
   "outputs": [],
   "source": [
    "basket_df = pd.pivot_table(\n",
    "    data=pay_df,\n",
    "    index=\"session_id\",\n",
    "    columns=\"category_id\",\n",
    "    values=\"n_items\",\n",
    "    aggfunc=np.sum,\n",
    "    fill_value=0    \n",
    "    ).apply(lambda x: x>0)"
   ]
  },
  {
   "cell_type": "code",
   "execution_count": 19,
   "metadata": {},
   "outputs": [
    {
     "output_type": "execute_result",
     "data": {
      "text/plain": [
       "se  False  False  False  False   \n",
       "4            False  False  False  False  False  False  False  False  False   \n",
       "\n",
       "category_id    401    402    403    405    406    407    408    409    410  \\\n",
       "session_id                                                                   \n",
       "0            False  False  False  False  False  False  False  False  False   \n",
       "1            False  False  False  False  False  False  False  False  False   \n",
       "2            False  False  False  False  False  False  False  False  False   \n",
       "3            False  False  False  False  False  False  False  False  False   \n",
       "4            False  False  False  False  False  False  False  False  False   \n",
       "\n",
       "category_id    411    413    414    415    416    417    418    419    420  \\\n",
       "session_id                                                                   \n",
       "0            False  False  False  False  False  False  False  False  False   \n",
       "1            False  False  False  False  False  False  False  False  False   \n",
       "2            False  False  False  False  False  False  False  False  False   \n",
       "3            False  False  False  False  False  False  False  False  False   \n",
       "4            False  False  False  False  False  False  False  False  False   \n",
       "\n",
       "category_id    421    422    423    424    425    426    430    431    432  \\\n",
       "session_id                                                                   \n",
       "0            False  False  False  False  False  False  False  False  False   \n",
       "1            False  False  False  False  False  False  False  False  False   \n",
       "2            False  False  False  False  False  False  False  False  False   \n",
       "3            False  False  False  False  False  False  False  False  False   \n",
       "4            False  False  False  False  False  False  False  False  False   \n",
       "\n",
       "category_id    433    434    435    436    437    438    439    440    441  \\\n",
       "session_id                                                                   \n",
       "0            False  False  False  False  False  False  False  False  False   \n",
       "1            False  False  False  False  False  False  False  False  False   \n",
       "2            False  False  False  False  False  False  False  False  False   \n",
       "3            False  False  False  False  False  False  False  False  False   \n",
       "4            False  False  False  False  False  False  False  False  False   \n",
       "\n",
       "category_id    442    443    444    445    446    447    448    449    450  \\\n",
       "session_id                                                                   \n",
       "0            False  False  False  False  False  False  False  False  False   \n",
       "1            False  False  False  False  False  False  False  False  False   \n",
       "2            False  False  False  False  False  False  False  False  False   \n",
       "3            False  False  False  False  False  False  False  False  False   \n",
       "4            False  False  False  False  False  False  False  False  False   \n",
       "\n",
       "category_id    451    452    453    454    455    456    457    458    459  \\\n",
       "session_id                                                                   \n",
       "0            False  False  False  False  False  False  False  False  False   \n",
       "1             True  False  False   True  False  False  False  False  False   \n",
       "2            False  False  False  False  False  False  False  False  False   \n",
       "3            False  False  False  False  False  False  False  False  False   \n",
       "4            False  False  False  False  False  False  False  False  False   \n",
       "\n",
       "category_id    460    461    462    463    464    465    466    467    468  \\\n",
       "session_id                                                                   \n",
       "0            False  False  False  False  False  False  False  False  False   \n",
       "1            False  False  False  False  False  False  False  False  False   \n",
       "2            False  False  False  False  False  False  False  False  False   \n",
       "3            False  False  False  False  False  False  False  False  False   \n",
       "4            False  False  False  False  False  False  False  False  False   \n",
       "\n",
       "category_id    469    470    471    472    473    474    475    476    477  \\\n",
       "session_id                                                                   \n",
       "0            False  False  False  False  False  False  False  False  False   \n",
       "1            False  False  False  False  False  False  False  False  False   \n",
       "2            False  False  False  False  False  False  False  False  False   \n",
       "3            False  False  False   True  False  False  False  False  False   \n",
       "4            False  False  False  False  False  False  False  False  False   \n",
       "\n",
       "category_id    478    479    480    484    486    487    488    489    490  \\\n",
       "session_id                                                                   \n",
       "0            False  False  False  False  False  False  False  False  False   \n",
       "1            False  False  False  False  False  False  False  False  False   \n",
       "2            False  False  False  False  False  False  False  False  False   \n",
       "3            False  False  False  False  False  False  False  False  False   \n",
       "4            False  False  False  False  False  False  False  False  False   \n",
       "\n",
       "category_id    491    492    493    494    495    496    497    498    499  \\\n",
       "session_id                                                                   \n",
       "0            False  False  False  False  False  False  False  False  False   \n",
       "1            False  False  False  False  False  False  False  False  False   \n",
       "2            False  False  False  False  False  False  False  False  False   \n",
       "3            False  False  False  False  False  False  False  False  False   \n",
       "4            False  False  False  False  False  False  False  False  False   \n",
       "\n",
       "category_id    500    502    503    504    505    506    507    508    509  \\\n",
       "session_id                                                                   \n",
       "0            False  False  False  False  False  False  False  False  False   \n",
       "1            False  False  False  False  False   True  False  False  False   \n",
       "2            False  False  False  False  False  False  False   True  False   \n",
       "3            False  False  False  False  False  False  False  False  False   \n",
       "4            False   True  False  False  False  False  False  False  False   \n",
       "\n",
       "category_id    510    511    517    518    519    520    521    522    523  \\\n",
       "session_id                                                                   \n",
       "0            False  False  False  False  False  False  False  False  False   \n",
       "1            False  False  False  False  False  False  False  False  False   \n",
       "2            False  False  False  False  False  False  False  False  False   \n",
       "3            False  False  False  False  False  False  False  False  False   \n",
       "4            False  False  False  False  False  False  False  False  False   \n",
       "\n",
       "category_id    524    525    526    527    528    529    530    531    532  \\\n",
       "session_id                                                                   \n",
       "0            False  False  False  False  False  False  False  False  False   \n",
       "1            False  False   True  False  False  False  False  False  False   \n",
       "2            False  False  False  False  False  False  False  False  False   \n",
       "3            False  False  False  False  False  False  False  False  False   \n",
       "4            False  False  False  False  False  False  False  False  False   \n",
       "\n",
       "category_id    533    534    535    536    537    538    539    541    542  \\\n",
       "session_id                                                                   \n",
       "0            False  False  False  False  False  False  False  False  False   \n",
       "1            False  False  False  False  False  False  False  False  False   \n",
       "2            False  False  False  False  False  False  False  False  False   \n",
       "3            False  False  False  False  False  False  False  False  False   \n",
       "4            False  False  False  False  False  False  False  False  False   \n",
       "\n",
       "category_id    543    544    545    546    547    548    549    550    551  \\\n",
       "session_id                                                                   \n",
       "0            False  False  False  False  False  False  False  False  False   \n",
       "1            False  False  False  False  False  False  False  False  False   \n",
       "2            False  False  False  False  False  False  False  False  False   \n",
       "3            False  False  False  False  False  False  False  False  False   \n",
       "4            False  False  False  False  False  False  False  False  False   \n",
       "\n",
       "category_id    552    553    554    555    556    557    558    559    560  \\\n",
       "session_id                                                                   \n",
       "0            False  False  False  False  False  False  False  False  False   \n",
       "1            False  False  False  False  False  False  False  False  False   \n",
       "2            False  False  False  False  False  False  False  False  False   \n",
       "3            False  False  False  False  False  False  False  False  False   \n",
       "4            False  False  False  False  False  False  False  False  False   \n",
       "\n",
       "category_id    561    562    563    564    565    566    567    568    569  \\\n",
       "session_id                                                                   \n",
       "0            False  False  False  False  False  False  False  False  False   \n",
       "1            False  False  False  False  False  False  False  False  False   \n",
       "2            False  False  False  False  False  False  False  False  False   \n",
       "3            False  False  False  False  False  False  False  False  False   \n",
       "4            False  False  False  False  False  False  False  False  False   \n",
       "\n",
       "category_id    571    572    573    574    575    576    578    579    580  \\\n",
       "session_id                                                                   \n",
       "0            False  False  False  False  False  False  False  False  False   \n",
       "1            False  False  False  False  False  False  False  False  False   \n",
       "2            False  False  False  False  False  False  False  False  False   \n",
       "3            False  False  False  False  False  False  False  False  False   \n",
       "4            False  False  False  False  False  False  False  False  False   \n",
       "\n",
       "category_id    581    582    583    584    585    586    587    588    589  \\\n",
       "session_id                                                                   \n",
       "0            False  False  False  False  False  False  False  False  False   \n",
       "1            False  False  False  False  False  False  False  False  False   \n",
       "2            False  False  False  False  False  False  False  False  False   \n",
       "3            False  False  False  False  False  False  False  False  False   \n",
       "4            False  False  False  False  False  False  False  False  False   \n",
       "\n",
       "category_id    590    591    592    594    595    596    597    598    599  \\\n",
       "session_id                                                                   \n",
       "0            False  False  False  False  False  False  False  False  False   \n",
       "1            False  False  False  False  False  False  False  False  False   \n",
       "2            False  False  False  False  False  False  False  False  False   \n",
       "3            False  False  False  False  False  False  False  False  False   \n",
       "4            False  False  False  False  False  False  False  False  False   \n",
       "\n",
       "category_id    600    601    602    604    606    607    608    610    612  \\\n",
       "session_id                                                                   \n",
       "0            False  False  False  False  False  False  False  False  False   \n",
       "1            False  False  False  False  False  False  False  False  False   \n",
       "2            False  False  False  False  False  False  False  False  False   \n",
       "3            False  False  False  False  False  False  False  False  False   \n",
       "4            False  False  False  False  False  False  False  False  False   \n",
       "\n",
       "category_id    613    615    616    617    618    619    620    621    623  \\\n",
       "session_id                                                                   \n",
       "0            False  False  False   True  False  False  False  False  False   \n",
       "1            False  False  False  False  False  False  False  False  False   \n",
       "2            False  False  False   True  False  False  False  False  False   \n",
       "3            False  False  False  False  False  False  False  False  False   \n",
       "4            False  False  False  False  False  False  False  False  False   \n",
       "\n",
       "category_id    624    625    627    628    629    630    631    632    633  \\\n",
       "session_id                                                                   \n",
       "0            False  False  False  False  False  False  False  False  False   \n",
       "1            False  False  False  False  False  False  False  False  False   \n",
       "2            False  False  False  False  False  False  False  False  False   \n",
       "3            False  False  False  False  False  False  False  False  False   \n",
       "4            False  False  False  False  False  False  False  False  False   \n",
       "\n",
       "category_id    634    635    636    639    640    643    644    645    646  \\\n",
       "session_id                                                                   \n",
       "0            False  False  False  False  False  False  False  False  False   \n",
       "1            False  False  False  False  False  False  False  False  False   \n",
       "2            False  False  False  False  False  False  False  False  False   \n",
       "3            False  False  False  False  False  False  False  False  False   \n",
       "4            False  False  False  False  False  False  False  False  False   \n",
       "\n",
       "category_id    647    648    649    650    651    652    653    654    655  \\\n",
       "session_id                                                                   \n",
       "0            False  False  False  False  False  False  False  False  False   \n",
       "1            False  False  False  False  False  False  False  False  False   \n",
       "2            False  False  False  False  False  False  False  False  False   \n",
       "3            False  False  False  False  False  False  False  False  False   \n",
       "4            False  False  False  False  False  False  False  False  False   \n",
       "\n",
       "category_id    656    657    658    659    660    661    662    663    664  \\\n",
       "session_id                                                                   \n",
       "0            False  False  False  False  False  False  False  False  False   \n",
       "1            False  False  False  False  False  False  False  False  False   \n",
       "2            False  False  False  False  False  False  False  False  False   \n",
       "3            False  False  False  False  False  False  False  False  False   \n",
       "4            False  False  False  False  False  False  False  False  False   \n",
       "\n",
       "category_id    665    666    667    668    669    670    671    672    673  \\\n",
       "session_id                                                                   \n",
       "0            False  False  False  False  False  False  False  False  False   \n",
       "1            False  False  False  False  False  False  False  False  False   \n",
       "2            False  False  False  False  False  False  False  False  False   \n",
       "3            False  False  False  False  False  False  False  False  False   \n",
       "4            False  False  False  False  False  False  False  False  False   \n",
       "\n",
       "category_id    674    675    676    677    678    679    680    681    682  \\\n",
       "session_id                                                                   \n",
       "0            False  False  False  False  False  False  False  False  False   \n",
       "1            False  False  False  False  False  False  False  False  False   \n",
       "2            False  False  False  False  False  False  False  False  False   \n",
       "3            False  False  False  False  False  False  False  False  False   \n",
       "4            False  False  False  False  False  False  False  False  False   \n",
       "\n",
       "category_id    683    684    685    686    687    688    689    690    691  \\\n",
       "session_id                                                                   \n",
       "0            False  False  False  False  False  False  False  False  False   \n",
       "1            False  False  False  False  False  False  False  False  False   \n",
       "2            False  False  False  False  False  False  False  False  False   \n",
       "3            False  False  False  False  False  False  False  False  False   \n",
       "4            False  False  False  False  False  False  False  False  False   \n",
       "\n",
       "category_id    693    694    695    696    697    698    699    700    701  \\\n",
       "session_id                                                                   \n",
       "0            False  False  False  False  False  False  False  False  False   \n",
       "1            False  False  False  False  False  False  False  False  False   \n",
       "2            False  False  False  False  False  False  False  False  False   \n",
       "3            False  False  False  False  False  False  False  False  False   \n",
       "4            False  False  False  False  False  False  False  False  False   \n",
       "\n",
       "category_id    702    703    704    705    707    708    709    710    711  \\\n",
       "session_id                                                                   \n",
       "0            False  False  False  False  False  False  False  False  False   \n",
       "1            False  False  False  False  False  False  False  False  False   \n",
       "2            False  False  False  False  False  False  False  False  False   \n",
       "3            False   True  False  False  False  False  False  False  False   \n",
       "4            False  False  False  False  False  False  False  False  False   \n",
       "\n",
       "category_id    712    713    714    715    716    717    718    720    721  \\\n",
       "session_id                                                                   \n",
       "0            False  False  False  False  False  False  False  False  False   \n",
       "1            False  False  False  False  False  False  False  False  False   \n",
       "2            False  False  False  False  False  False  False  False  False   \n",
       "3            False  False  False  False  False  False  False  False  False   \n",
       "4            False  False  False  False  False  False  False  False  False   \n",
       "\n",
       "category_id    722    723    724    725    726    727    728    729    730  \\\n",
       "session_id                                                                   \n",
       "0            False  False  False  False  False  False  False  False  False   \n",
       "1            False  False  False  False  False  False  False  False  False   \n",
       "2            False  False  False  False  False  False  False  False  False   \n",
       "3            False  False  False  False  False  False  False  False  False   \n",
       "4            False  False  False  False  False  False  False  False  False   \n",
       "\n",
       "category_id    731    732    733    734    735    736    737    738    739  \\\n",
       "session_id                                                                   \n",
       "0            False  False  False  False  False  False  False  False  False   \n",
       "1            False  False  False  False  False  False  False  False  False   \n",
       "2            False  False  False  False  False  False  False  False  False   \n",
       "3            False  False  False  False  False  False  False  False  False   \n",
       "4            False  False  False  False  False  False  False  False  False   \n",
       "\n",
       "category_id    740    751    752    753    754    755    756    758    759  \\\n",
       "session_id                                                                   \n",
       "0            False  False  False  False  False  False  False  False  False   \n",
       "1            False  False  False  False  False  False  False  False  False   \n",
       "2            False  False  False  False  False  False  False  False  False   \n",
       "3            False  False  False  False  False  False  False  False  False   \n",
       "4            False  False  False  False  False  False  False  False  False   \n",
       "\n",
       "category_id    761    762    763    764    765    766    767    768    769  \\\n",
       "session_id                                                                   \n",
       "0            False  False  False  False  False  False  False  False  False   \n",
       "1            False  False  False  False  False  False  False  False  False   \n",
       "2            False  False  False  False  False  False  False  False  False   \n",
       "3            False  False  False  False  False  False  False  False  False   \n",
       "4            False  False  False  False  False  False  False  False  False   \n",
       "\n",
       "category_id    770    771  \n",
       "session_id                 \n",
       "0            False  False  \n",
       "1            False  False  \n",
       "2            False  False  \n",
       "3            False  False  \n",
       "4            False  False  "
      ],
      "text/html": "<div>\n<style scoped>\n    .dataframe tbody tr th:only-of-type {\n        vertical-align: middle;\n    }\n\n    .dataframe tbody tr th {\n        vertical-align: top;\n    }\n\n    .dataframe thead th {\n        text-align: right;\n    }\n</style>\n<table border=\"1\" class=\"dataframe\">\n  <thead>\n    <tr style=\"text-align: right;\">\n      <th>category_id</th>\n      <th>0</th>\n      <th>1</th>\n      <th>2</th>\n      <th>3</th>\n      <th>4</th>\n      <th>5</th>\n      <th>7</th>\n      <th>8</th>\n      <th>9</th>\n      <th>11</th>\n      <th>12</th>\n      <th>13</th>\n      <th>14</th>\n      <th>23</th>\n      <th>24</th>\n      <th>26</th>\n      <th>27</th>\n      <th>28</th>\n      <th>29</th>\n      <th>30</th>\n      <th>31</th>\n      <th>32</th>\n      <th>33</th>\n      <th>35</th>\n      <th>36</th>\n      <th>37</th>\n      <th>38</th>\n      <th>39</th>\n      <th>40</th>\n      <th>41</th>\n      <th>42</th>\n      <th>43</th>\n      <th>44</th>\n      <th>45</th>\n      <th>46</th>\n      <th>47</th>\n      <th>48</th>\n      <th>49</th>\n      <th>50</th>\n      <th>51</th>\n      <th>52</th>\n      <th>53</th>\n      <th>54</th>\n      <th>55</th>\n      <th>56</th>\n      <th>57</th>\n      <th>58</th>\n      <th>59</th>\n      <th>60</th>\n      <th>61</th>\n      <th>62</th>\n      <th>63</th>\n      <th>64</th>\n      <th>65</th>\n      <th>66</th>\n      <th>67</th>\n      <th>68</th>\n      <th>69</th>\n      <th>71</th>\n      <th>72</th>\n      <th>73</th>\n      <th>74</th>\n      <th>76</th>\n      <th>77</th>\n      <th>78</th>\n      <th>79</th>\n      <th>80</th>\n      <th>81</th>\n      <th>82</th>\n      <th>83</th>\n      <th>84</th>\n      <th>85</th>\n      <th>86</th>\n      <th>87</th>\n      <th>88</th>\n      <th>89</th>\n      <th>90</th>\n      <th>92</th>\n      <th>93</th>\n      <th>94</th>\n      <th>95</th>\n      <th>96</th>\n      <th>97</th>\n      <th>98</th>\n      <th>99</th>\n      <th>108</th>\n      <th>109</th>\n      <th>110</th>\n      <th>111</th>\n      <th>112</th>\n      <th>113</th>\n      <th>114</th>\n      <th>115</th>\n      <th>116</th>\n      <th>118</th>\n      <th>119</th>\n      <th>120</th>\n      <th>121</th>\n      <th>122</th>\n      <th>123</th>\n      <th>124</th>\n      <th>125</th>\n      <th>126</th>\n      <th>127</th>\n      <th>128</th>\n      <th>129</th>\n      <th>130</th>\n      <th>131</th>\n      <th>132</th>\n      <th>133</th>\n      <th>134</th>\n      <th>135</th>\n      <th>136</th>\n      <th>137</th>\n      <th>141</th>\n      <th>142</th>\n      <th>143</th>\n      <th>144</th>\n      <th>145</th>\n      <th>146</th>\n      <th>147</th>\n      <th>148</th>\n      <th>149</th>\n      <th>150</th>\n      <th>155</th>\n      <th>156</th>\n      <th>157</th>\n      <th>158</th>\n      <th>159</th>\n      <th>160</th>\n      <th>161</th>\n      <th>162</th>\n      <th>163</th>\n      <th>164</th>\n      <th>165</th>\n      <th>166</th>\n      <th>167</th>\n      <th>168</th>\n      <th>169</th>\n      <th>170</th>\n      <th>171</th>\n      <th>172</th>\n      <th>173</th>\n      <th>181</th>\n      <th>182</th>\n      <th>183</th>\n      <th>184</th>\n      <th>185</th>\n      <th>186</th>\n      <th>188</th>\n      <th>189</th>\n      <th>191</th>\n      <th>192</th>\n      <th>193</th>\n      <th>194</th>\n      <th>195</th>\n      <th>196</th>\n      <th>197</th>\n      <th>198</th>\n      <th>199</th>\n      <th>200</th>\n      <th>201</th>\n      <th>202</th>\n      <th>203</th>\n      <th>204</th>\n      <th>205</th>\n      <th>206</th>\n      <th>207</th>\n      <th>208</th>\n      <th>209</th>\n      <th>210</th>\n      <th>211</th>\n      <th>212</th>\n      <th>213</th>\n      <th>214</th>\n      <th>215</th>\n      <th>216</th>\n      <th>217</th>\n      <th>218</th>\n      <th>219</th>\n      <th>220</th>\n      <th>221</th>\n      <th>222</th>\n      <th>223</th>\n      <th>224</th>\n      <th>225</th>\n      <th>226</th>\n      <th>227</th>\n      <th>228</th>\n      <th>229</th>\n      <th>230</th>\n      <th>231</th>\n      <th>232</th>\n      <th>233</th>\n      <th>234</th>\n      <th>235</th>\n      <th>236</th>\n      <th>237</th>\n      <th>238</th>\n      <th>239</th>\n      <th>240</th>\n      <th>242</th>\n      <th>243</th>\n      <th>244</th>\n      <th>245</th>\n      <th>246</th>\n      <th>247</th>\n      <th>248</th>\n      <th>250</th>\n      <th>251</th>\n      <th>252</th>\n      <th>253</th>\n      <th>254</th>\n      <th>255</th>\n      <th>256</th>\n      <th>257</th>\n      <th>258</th>\n      <th>259</th>\n      <th>260</th>\n      <th>261</th>\n      <th>262</th>\n      <th>263</th>\n      <th>265</th>\n      <th>266</th>\n      <th>267</th>\n      <th>268</th>\n      <th>269</th>\n      <th>270</th>\n      <th>271</th>\n      <th>272</th>\n      <th>273</th>\n      <th>274</th>\n      <th>275</th>\n      <th>276</th>\n      <th>278</th>\n      <th>279</th>\n      <th>280</th>\n      <th>281</th>\n      <th>283</th>\n      <th>284</th>\n      <th>285</th>\n      <th>286</th>\n      <th>287</th>\n      <th>288</th>\n      <th>289</th>\n      <th>290</th>\n      <th>291</th>\n      <th>292</th>\n      <th>294</th>\n      <th>295</th>\n      <th>296</th>\n      <th>297</th>\n      <th>298</th>\n      <th>299</th>\n      <th>300</th>\n      <th>301</th>\n      <th>302</th>\n      <th>303</th>\n      <th>304</th>\n      <th>305</th>\n      <th>306</th>\n      <th>307</th>\n      <th>308</th>\n      <th>309</th>\n      <th>310</th>\n      <th>311</th>\n      <th>312</th>\n      <th>313</th>\n      <th>314</th>\n      <th>315</th>\n      <th>316</th>\n      <th>317</th>\n      <th>319</th>\n      <th>321</th>\n      <th>322</th>\n      <th>323</th>\n      <th>324</th>\n      <th>325</th>\n      <th>326</th>\n      <th>328</th>\n      <th>329</th>\n      <th>330</th>\n      <th>331</th>\n      <th>332</th>\n      <th>333</th>\n      <th>334</th>\n      <th>335</th>\n      <th>336</th>\n      <th>338</th>\n      <th>339</th>\n      <th>340</th>\n      <th>341</th>\n      <th>342</th>\n      <th>343</th>\n      <th>344</th>\n      <th>345</th>\n      <th>346</th>\n      <th>347</th>\n      <th>348</th>\n      <th>349</th>\n      <th>350</th>\n      <th>351</th>\n      <th>352</th>\n      <th>353</th>\n      <th>354</th>\n      <th>355</th>\n      <th>356</th>\n      <th>357</th>\n      <th>358</th>\n      <th>359</th>\n      <th>360</th>\n      <th>361</th>\n      <th>362</th>\n      <th>363</th>\n      <th>364</th>\n      <th>365</th>\n      <th>366</th>\n      <th>367</th>\n      <th>368</th>\n      <th>369</th>\n      <th>370</th>\n      <th>371</th>\n      <th>372</th>\n      <th>373</th>\n      <th>374</th>\n      <th>375</th>\n      <th>376</th>\n      <th>377</th>\n      <th>378</th>\n      <th>379</th>\n      <th>380</th>\n      <th>381</th>\n      <th>382</th>\n      <th>383</th>\n      <th>384</th>\n      <th>385</th>\n      <th>386</th>\n      <th>387</th>\n      <th>388</th>\n      <th>389</th>\n      <th>390</th>\n      <th>391</th>\n      <th>392</th>\n      <th>393</th>\n      <th>394</th>\n      <th>395</th>\n      <th>396</th>\n      <th>397</th>\n      <th>398</th>\n      <th>399</th>\n      <th>400</th>\n      <th>401</th>\n      <th>402</th>\n      <th>403</th>\n      <th>405</th>\n      <th>406</th>\n      <th>407</th>\n      <th>408</th>\n      <th>409</th>\n      <th>410</th>\n      <th>411</th>\n      <th>413</th>\n      <th>414</th>\n      <th>415</th>\n      <th>416</th>\n      <th>417</th>\n      <th>418</th>\n      <th>419</th>\n      <th>420</th>\n      <th>421</th>\n      <th>422</th>\n      <th>423</th>\n      <th>424</th>\n      <th>425</th>\n      <th>426</th>\n      <th>430</th>\n      <th>431</th>\n      <th>432</th>\n      <th>433</th>\n      <th>434</th>\n      <th>435</th>\n      <th>436</th>\n      <th>437</th>\n      <th>438</th>\n      <th>439</th>\n      <th>440</th>\n      <th>441</th>\n      <th>442</th>\n      <th>443</th>\n      <th>444</th>\n      <th>445</th>\n      <th>446</th>\n      <th>447</th>\n      <th>448</th>\n      <th>449</th>\n      <th>450</th>\n      <th>451</th>\n      <th>452</th>\n      <th>453</th>\n      <th>454</th>\n      <th>455</th>\n      <th>456</th>\n      <th>457</th>\n      <th>458</th>\n      <th>459</th>\n      <th>460</th>\n      <th>461</th>\n      <th>462</th>\n      <th>463</th>\n      <th>464</th>\n      <th>465</th>\n      <th>466</th>\n      <th>467</th>\n      <th>468</th>\n      <th>469</th>\n      <th>470</th>\n      <th>471</th>\n      <th>472</th>\n      <th>473</th>\n      <th>474</th>\n      <th>475</th>\n      <th>476</th>\n      <th>477</th>\n      <th>478</th>\n      <th>479</th>\n      <th>480</th>\n      <th>484</th>\n      <th>486</th>\n      <th>487</th>\n      <th>488</th>\n      <th>489</th>\n      <th>490</th>\n      <th>491</th>\n      <th>492</th>\n      <th>493</th>\n      <th>494</th>\n      <th>495</th>\n      <th>496</th>\n      <th>497</th>\n      <th>498</th>\n      <th>499</th>\n      <th>500</th>\n      <th>502</th>\n      <th>503</th>\n      <th>504</th>\n      <th>505</th>\n      <th>506</th>\n      <th>507</th>\n      <th>508</th>\n      <th>509</th>\n      <th>510</th>\n      <th>511</th>\n      <th>517</th>\n      <th>518</th>\n      <th>519</th>\n      <th>520</th>\n      <th>521</th>\n      <th>522</th>\n      <th>523</th>\n      <th>524</th>\n      <th>525</th>\n      <th>526</th>\n      <th>527</th>\n      <th>528</th>\n      <th>529</th>\n      <th>530</th>\n      <th>531</th>\n      <th>532</th>\n      <th>533</th>\n      <th>534</th>\n      <th>535</th>\n      <th>536</th>\n      <th>537</th>\n      <th>538</th>\n      <th>539</th>\n      <th>541</th>\n      <th>542</th>\n      <th>543</th>\n      <th>544</th>\n      <th>545</th>\n      <th>546</th>\n      <th>547</th>\n      <th>548</th>\n      <th>549</th>\n      <th>550</th>\n      <th>551</th>\n      <th>552</th>\n      <th>553</th>\n      <th>554</th>\n      <th>555</th>\n      <th>556</th>\n      <th>557</th>\n      <th>558</th>\n      <th>559</th>\n      <th>560</th>\n      <th>561</th>\n      <th>562</th>\n      <th>563</th>\n      <th>564</th>\n      <th>565</th>\n      <th>566</th>\n      <th>567</th>\n      <th>568</th>\n      <th>569</th>\n      <th>571</th>\n      <th>572</th>\n      <th>573</th>\n      <th>574</th>\n      <th>575</th>\n      <th>576</th>\n      <th>578</th>\n      <th>579</th>\n      <th>580</th>\n      <th>581</th>\n      <th>582</th>\n      <th>583</th>\n      <th>584</th>\n      <th>585</th>\n      <th>586</th>\n      <th>587</th>\n      <th>588</th>\n      <th>589</th>\n      <th>590</th>\n      <th>591</th>\n      <th>592</th>\n      <th>594</th>\n      <th>595</th>\n      <th>596</th>\n      <th>597</th>\n      <th>598</th>\n      <th>599</th>\n      <th>600</th>\n      <th>601</th>\n      <th>602</th>\n      <th>604</th>\n      <th>606</th>\n      <th>607</th>\n      <th>608</th>\n      <th>610</th>\n      <th>612</th>\n      <th>613</th>\n      <th>615</th>\n      <th>616</th>\n      <th>617</th>\n      <th>618</th>\n      <th>619</th>\n      <th>620</th>\n      <th>621</th>\n      <th>623</th>\n      <th>624</th>\n      <th>625</th>\n      <th>627</th>\n      <th>628</th>\n      <th>629</th>\n      <th>630</th>\n      <th>631</th>\n      <th>632</th>\n      <th>633</th>\n      <th>634</th>\n      <th>635</th>\n      <th>636</th>\n      <th>639</th>\n      <th>640</th>\n      <th>643</th>\n      <th>644</th>\n      <th>645</th>\n      <th>646</th>\n      <th>647</th>\n      <th>648</th>\n      <th>649</th>\n      <th>650</th>\n      <th>651</th>\n      <th>652</th>\n      <th>653</th>\n      <th>654</th>\n      <th>655</th>\n      <th>656</th>\n      <th>657</th>\n      <th>658</th>\n      <th>659</th>\n      <th>660</th>\n      <th>661</th>\n      <th>662</th>\n      <th>663</th>\n      <th>664</th>\n      <th>665</th>\n      <th>666</th>\n      <th>667</th>\n      <th>668</th>\n      <th>669</th>\n      <th>670</th>\n      <th>671</th>\n      <th>672</th>\n      <th>673</th>\n      <th>674</th>\n      <th>675</th>\n      <th>676</th>\n      <th>677</th>\n      <th>678</th>\n      <th>679</th>\n      <th>680</th>\n      <th>681</th>\n      <th>682</th>\n      <th>683</th>\n      <th>684</th>\n      <th>685</th>\n      <th>686</th>\n      <th>687</th>\n      <th>688</th>\n      <th>689</th>\n      <th>690</th>\n      <th>691</th>\n      <th>693</th>\n      <th>694</th>\n      <th>695</th>\n      <th>696</th>\n      <th>697</th>\n      <th>698</th>\n      <th>699</th>\n      <th>700</th>\n      <th>701</th>\n      <th>702</th>\n      <th>703</th>\n      <th>704</th>\n      <th>705</th>\n      <th>707</th>\n      <th>708</th>\n      <th>709</th>\n      <th>710</th>\n      <th>711</th>\n      <th>712</th>\n      <th>713</th>\n      <th>714</th>\n      <th>715</th>\n      <th>716</th>\n      <th>717</th>\n      <th>718</th>\n      <th>720</th>\n      <th>721</th>\n      <th>722</th>\n      <th>723</th>\n      <th>724</th>\n      <th>725</th>\n      <th>726</th>\n      <th>727</th>\n      <th>728</th>\n      <th>729</th>\n      <th>730</th>\n      <th>731</th>\n      <th>732</th>\n      <th>733</th>\n      <th>734</th>\n      <th>735</th>\n      <th>736</th>\n      <th>737</th>\n      <th>738</th>\n      <th>739</th>\n      <th>740</th>\n      <th>751</th>\n      <th>752</th>\n      <th>753</th>\n      <th>754</th>\n      <th>755</th>\n      <th>756</th>\n      <th>758</th>\n      <th>759</th>\n      <th>761</th>\n      <th>762</th>\n      <th>763</th>\n      <th>764</th>\n      <th>765</th>\n      <th>766</th>\n      <th>767</th>\n      <th>768</th>\n      <th>769</th>\n      <th>770</th>\n      <th>771</th>\n    </tr>\n    <tr>\n      <th>session_id</th>\n      <th></th>\n      <th></th>\n      <th></th>\n      <th></th>\n      <th></th>\n      <th></th>\n      <th></th>\n      <th></th>\n      <th></th>\n      <th></th>\n      <th></th>\n      <th></th>\n      <th></th>\n      <th></th>\n      <th></th>\n      <th></th>\n      <th></th>\n      <th></th>\n      <th></th>\n      <th></th>\n      <th></th>\n      <th></th>\n      <th></th>\n      <th></th>\n      <th></th>\n      <th></th>\n      <th></th>\n      <th></th>\n      <th></th>\n      <th></th>\n      <th></th>\n      <th></th>\n      <th></th>\n      <th></th>\n      <th></th>\n      <th></th>\n      <th></th>\n      <th></th>\n      <th></th>\n      <th></th>\n      <th></th>\n      <th></th>\n      <th></th>\n      <th></th>\n      <th></th>\n      <th></th>\n      <th></th>\n      <th></th>\n      <th></th>\n      <th></th>\n      <th></th>\n      <th></th>\n      <th></th>\n      <th></th>\n      <th></th>\n      <th></th>\n      <th></th>\n      <th></th>\n      <th></th>\n      <th></th>\n      <th></th>\n      <th></th>\n      <th></th>\n      <th></th>\n      <th></th>\n      <th></th>\n      <th></th>\n      <th></th>\n      <th></th>\n      <th></th>\n      <th></th>\n      <th></th>\n      <th></th>\n      <th></th>\n      <th></th>\n      <th></th>\n      <th></th>\n      <th></th>\n      <th></th>\n      <th></th>\n      <th></th>\n      <th></th>\n      <th></th>\n      <th></th>\n      <th></th>\n      <th></th>\n      <th></th>\n      <th></th>\n      <th></th>\n      <th></th>\n      <th></th>\n      <th></th>\n      <th></th>\n      <th></th>\n      <th></th>\n      <th></th>\n      <th></th>\n      <th></th>\n      <th></th>\n      <th></th>\n      <th></th>\n      <th></th>\n      <th></th>\n      <th></th>\n      <th></th>\n      <th></th>\n      <th></th>\n      <th></th>\n      <th></th>\n      <th></th>\n      <th></th>\n      <th></th>\n      <th></th>\n      <th></th>\n      <th></th>\n      <th></th>\n      <th></th>\n      <th></th>\n      <th></th>\n      <th></th>\n      <th></th>\n      <th></th>\n      <th></th>\n      <th></th>\n      <th></th>\n      <th></th>\n      <th></th>\n      <th></th>\n      <th></th>\n      <th></th>\n      <th></th>\n      <th></th>\n      <th></th>\n      <th></th>\n      <th></th>\n      <th></th>\n      <th></th>\n      <th></th>\n      <th></th>\n      <th></th>\n      <th></th>\n      <th></th>\n      <th></th>\n      <th></th>\n      <th></th>\n      <th></th>\n      <th></th>\n      <th></th>\n      <th></th>\n      <th></th>\n      <th></th>\n      <th></th>\n      <th></th>\n      <th></th>\n      <th></th>\n      <th></th>\n      <th></th>\n      <th></th>\n      <th></th>\n      <th></th>\n      <th></th>\n      <th></th>\n      <th></th>\n      <th></th>\n      <th></th>\n      <th></th>\n      <th></th>\n      <th></th>\n      <th></th>\n      <th></th>\n      <th></th>\n      <th></th>\n      <th></th>\n      <th></th>\n      <th></th>\n      <th></th>\n      <th></th>\n      <th></th>\n      <th></th>\n      <th></th>\n      <th></th>\n      <th></th>\n      <th></th>\n      <th></th>\n      <th></th>\n      <th></th>\n      <th></th>\n      <th></th>\n      <th></th>\n      <th></th>\n      <th></th>\n      <th></th>\n      <th></th>\n      <th></th>\n      <th></th>\n      <th></th>\n      <th></th>\n      <th></th>\n      <th></th>\n      <th></th>\n      <th></th>\n      <th></th>\n      <th></th>\n      <th></th>\n      <th></th>\n      <th></th>\n      <th></th>\n      <th></th>\n      <th></th>\n      <th></th>\n      <th></th>\n      <th></th>\n      <th></th>\n      <th></th>\n      <th></th>\n      <th></th>\n      <th></th>\n      <th></th>\n      <th></th>\n      <th></th>\n      <th></th>\n      <th></th>\n      <th></th>\n      <th></th>\n      <th></th>\n      <th></th>\n      <th></th>\n      <th></th>\n      <th></th>\n      <th></th>\n      <th></th>\n      <th></th>\n      <th></th>\n      <th></th>\n      <th></th>\n      <th></th>\n      <th></th>\n      <th></th>\n      <th></th>\n      <th></th>\n      <th></th>\n      <th></th>\n      <th></th>\n      <th></th>\n      <th></th>\n      <th></th>\n      <th></th>\n      <th></th>\n      <th></th>\n      <th></th>\n      <th></th>\n      <th></th>\n      <th></th>\n      <th></th>\n      <th></th>\n      <th></th>\n      <th></th>\n      <th></th>\n      <th></th>\n      <th></th>\n      <th></th>\n      <th></th>\n      <th></th>\n      <th></th>\n      <th></th>\n      <th></th>\n      <th></th>\n      <th></th>\n      <th></th>\n      <th></th>\n      <th></th>\n      <th></th>\n      <th></th>\n      <th></th>\n      <th></th>\n      <th></th>\n      <th></th>\n      <th></th>\n      <th></th>\n      <th></th>\n      <th></th>\n      <th></th>\n      <th></th>\n      <th></th>\n      <th></th>\n      <th></th>\n      <th></th>\n      <th></th>\n      <th></th>\n      <th></th>\n      <th></th>\n      <th></th>\n      <th></th>\n      <th></th>\n      <th></th>\n      <th></th>\n      <th></th>\n      <th></th>\n      <th></th>\n      <th></th>\n      <th></th>\n      <th></th>\n      <th></th>\n      <th></th>\n      <th></th>\n      <th></th>\n      <th></th>\n      <th></th>\n      <th></th>\n      <th></th>\n      <th></th>\n      <th></th>\n      <th></th>\n      <th></th>\n      <th></th>\n      <th></th>\n      <th></th>\n      <th></th>\n      <th></th>\n      <th></th>\n      <th></th>\n      <th></th>\n      <th></th>\n      <th></th>\n      <th></th>\n      <th></th>\n      <th></th>\n      <th></th>\n      <th></th>\n      <th></th>\n      <th></th>\n      <th></th>\n      <th></th>\n      <th></th>\n      <th></th>\n      <th></th>\n      <th></th>\n      <th></th>\n      <th></th>\n      <th></th>\n      <th></th>\n      <th></th>\n      <th></th>\n      <th></th>\n      <th></th>\n      <th></th>\n      <th></th>\n      <th></th>\n      <th></th>\n      <th></th>\n      <th></th>\n      <th></th>\n      <th></th>\n      <th></th>\n      <th></th>\n      <th></th>\n      <th></th>\n      <th></th>\n      <th></th>\n      <th></th>\n      <th></th>\n      <th></th>\n      <th></th>\n      <th></th>\n      <th></th>\n      <th></th>\n      <th></th>\n      <th></th>\n      <th></th>\n      <th></th>\n      <th></th>\n      <th></th>\n      <th></th>\n      <th></th>\n      <th></th>\n      <th></th>\n      <th></th>\n      <th></th>\n      <th></th>\n      <th></th>\n      <th></th>\n      <th></th>\n      <th></th>\n      <th></th>\n      <th></th>\n      <th></th>\n      <th></th>\n      <th></th>\n      <th></th>\n      <th></th>\n      <th></th>\n      <th></th>\n      <th></th>\n      <th></th>\n      <th></th>\n      <th></th>\n      <th></th>\n      <th></th>\n      <th></th>\n      <th></th>\n      <th></th>\n      <th></th>\n      <th></th>\n      <th></th>\n      <th></th>\n      <th></th>\n      <th></th>\n      <th></th>\n      <th></th>\n      <th></th>\n      <th></th>\n      <th></th>\n      <th></th>\n      <th></th>\n      <th></th>\n      <th></th>\n      <th></th>\n      <th></th>\n      <th></th>\n      <th></th>\n      <th></th>\n      <th></th>\n      <th></th>\n      <th></th>\n      <th></th>\n      <th></th>\n      <th></th>\n      <th></th>\n      <th></th>\n      <th></th>\n      <th></th>\n      <th></th>\n      <th></th>\n      <th></th>\n      <th></th>\n      <th></th>\n      <th></th>\n      <th></th>\n      <th></th>\n      <th></th>\n      <th></th>\n      <th></th>\n      <th></th>\n      <th></th>\n      <th></th>\n      <th></th>\n      <th></th>\n      <th></th>\n      <th></th>\n      <th></th>\n      <th></th>\n      <th></th>\n      <th></th>\n      <th></th>\n      <th></th>\n      <th></th>\n      <th></th>\n      <th></th>\n      <th></th>\n      <th></th>\n      <th></th>\n      <th></th>\n      <th></th>\n      <th></th>\n      <th></th>\n      <th></th>\n      <th></th>\n      <th></th>\n      <th></th>\n      <th></th>\n      <th></th>\n      <th></th>\n      <th></th>\n      <th></th>\n      <th></th>\n      <th></th>\n      <th></th>\n      <th></th>\n      <th></th>\n      <th></th>\n      <th></th>\n      <th></th>\n      <th></th>\n      <th></th>\n      <th></th>\n      <th></th>\n      <th></th>\n      <th></th>\n      <th></th>\n      <th></th>\n      <th></th>\n      <th></th>\n      <th></th>\n      <th></th>\n      <th></th>\n      <th></th>\n      <th></th>\n      <th></th>\n      <th></th>\n      <th></th>\n      <th></th>\n      <th></th>\n      <th></th>\n      <th></th>\n      <th></th>\n      <th></th>\n      <th></th>\n      <th></th>\n      <th></th>\n      <th></th>\n      <th></th>\n      <th></th>\n      <th></th>\n      <th></th>\n      <th></th>\n      <th></th>\n      <th></th>\n      <th></th>\n      <th></th>\n      <th></th>\n      <th></th>\n      <th></th>\n      <th></th>\n      <th></th>\n      <th></th>\n      <th></th>\n      <th></th>\n      <th></th>\n      <th></th>\n      <th></th>\n      <th></th>\n      <th></th>\n      <th></th>\n      <th></th>\n      <th></th>\n      <th></th>\n      <th></th>\n      <th></th>\n      <th></th>\n      <th></th>\n      <th></th>\n      <th></th>\n      <th></th>\n      <th></th>\n      <th></th>\n      <th></th>\n      <th></th>\n      <th></th>\n      <th></th>\n      <th></th>\n      <th></th>\n      <th></th>\n      <th></th>\n      <th></th>\n      <th></th>\n      <th></th>\n      <th></th>\n      <th></th>\n      <th></th>\n      <th></th>\n      <th></th>\n      <th></th>\n      <th></th>\n      <th></th>\n      <th></th>\n      <th></th>\n      <th></th>\n      <th></th>\n      <th></th>\n      <th></th>\n      <th></th>\n      <th></th>\n      <th></th>\n      <th></th>\n      <th></th>\n      <th></th>\n      <th></th>\n      <th></th>\n      <th></th>\n      <th></th>\n      <th></th>\n      <th></th>\n      <th></th>\n      <th></th>\n      <th></th>\n      <th></th>\n      <th></th>\n      <th></th>\n      <th></th>\n      <th></th>\n      <th></th>\n      <th></th>\n      <th></th>\n      <th></th>\n      <th></th>\n      <th></th>\n      <th></th>\n      <th></th>\n      <th></th>\n      <th></th>\n      <th></th>\n      <th></th>\n      <th></th>\n      <th></th>\n      <th></th>\n      <th></th>\n      <th></th>\n      <th></th>\n      <th></th>\n      <th></th>\n      <th></th>\n      <th></th>\n      <th></th>\n      <th></th>\n      <th></th>\n      <th></th>\n      <th></th>\n      <th></th>\n      <th></th>\n      <th></th>\n      <th></th>\n      <th></th>\n      <th></th>\n      <th></th>\n      <th></th>\n      <th></th>\n      <th></th>\n      <th></th>\n      <th></th>\n      <th></th>\n      <th></th>\n      <th></th>\n      <th></th>\n      <th></th>\n      <th></th>\n      <th></th>\n      <th></th>\n      <th></th>\n      <th></th>\n      <th></th>\n      <th></th>\n      <th></th>\n      <th></th>\n      <th></th>\n      <th></th>\n      <th></th>\n      <th></th>\n      <th></th>\n      <th></th>\n      <th></th>\n      <th></th>\n      <th></th>\n      <th></th>\n      <th></th>\n      <th></th>\n      <th></th>\n      <th></th>\n      <th></th>\n      <th></th>\n      <th></th>\n      <th></th>\n      <th></th>\n      <th></th>\n      <th></th>\n      <th></th>\n      <th></th>\n      <th></th>\n      <th></th>\n      <th></th>\n      <th></th>\n      <th></th>\n      <th></th>\n      <th></th>\n      <th></th>\n      <th></th>\n      <th></th>\n      <th></th>\n    </tr>\n  </thead>\n  <tbody>\n    <tr>\n      <th>0</th>\n      <td>False</td>\n      <td>False</td>\n      <td>False</td>\n      <td>False</td>\n      <td>False</td>\n      <td>False</td>\n      <td>False</td>\n      <td>False</td>\n      <td>False</td>\n      <td>False</td>\n      <td>False</td>\n      <td>False</td>\n      <td>False</td>\n      <td>False</td>\n      <td>False</td>\n      <td>False</td>\n      <td>False</td>\n      <td>False</td>\n      <td>False</td>\n      <td>False</td>\n      <td>False</td>\n      <td>False</td>\n      <td>False</td>\n      <td>False</td>\n      <td>False</td>\n      <td>False</td>\n      <td>False</td>\n      <td>False</td>\n      <td>False</td>\n      <td>False</td>\n      <td>False</td>\n      <td>False</td>\n      <td>False</td>\n      <td>False</td>\n      <td>False</td>\n      <td>False</td>\n      <td>False</td>\n      <td>False</td>\n      <td>False</td>\n      <td>False</td>\n      <td>False</td>\n      <td>False</td>\n      <td>False</td>\n      <td>False</td>\n      <td>False</td>\n      <td>False</td>\n      <td>False</td>\n      <td>False</td>\n      <td>False</td>\n      <td>False</td>\n      <td>False</td>\n      <td>False</td>\n      <td>False</td>\n      <td>False</td>\n      <td>False</td>\n      <td>False</td>\n      <td>False</td>\n      <td>False</td>\n      <td>False</td>\n      <td>False</td>\n      <td>False</td>\n      <td>False</td>\n      <td>False</td>\n      <td>False</td>\n      <td>False</td>\n      <td>False</td>\n      <td>False</td>\n      <td>False</td>\n      <td>False</td>\n      <td>False</td>\n      <td>False</td>\n      <td>False</td>\n      <td>False</td>\n      <td>False</td>\n      <td>False</td>\n      <td>False</td>\n      <td>False</td>\n      <td>False</td>\n      <td>False</td>\n      <td>False</td>\n      <td>False</td>\n      <td>False</td>\n      <td>False</td>\n      <td>False</td>\n      <td>False</td>\n      <td>False</td>\n      <td>False</td>\n      <td>False</td>\n      <td>False</td>\n      <td>False</td>\n      <td>False</td>\n      <td>False</td>\n      <td>False</td>\n      <td>False</td>\n      <td>False</td>\n      <td>False</td>\n      <td>False</td>\n      <td>False</td>\n      <td>False</td>\n      <td>False</td>\n      <td>False</td>\n      <td>False</td>\n      <td>False</td>\n      <td>False</td>\n      <td>False</td>\n      <td>False</td>\n      <td>False</td>\n      <td>False</td>\n      <td>False</td>\n      <td>False</td>\n      <td>False</td>\n      <td>False</td>\n      <td>False</td>\n      <td>False</td>\n      <td>False</td>\n      <td>False</td>\n      <td>False</td>\n      <td>False</td>\n      <td>False</td>\n      <td>False</td>\n      <td>False</td>\n      <td>False</td>\n      <td>False</td>\n      <td>False</td>\n      <td>False</td>\n      <td>False</td>\n      <td>False</td>\n      <td>False</td>\n      <td>False</td>\n      <td>False</td>\n      <td>False</td>\n      <td>False</td>\n      <td>False</td>\n      <td>False</td>\n      <td>False</td>\n      <td>False</td>\n      <td>False</td>\n      <td>False</td>\n      <td>False</td>\n      <td>False</td>\n      <td>False</td>\n      <td>False</td>\n      <td>False</td>\n      <td>False</td>\n      <td>False</td>\n      <td>False</td>\n      <td>False</td>\n      <td>False</td>\n      <td>False</td>\n      <td>False</td>\n      <td>False</td>\n      <td>False</td>\n      <td>False</td>\n      <td>False</td>\n      <td>False</td>\n      <td>False</td>\n      <td>False</td>\n      <td>False</td>\n      <td>False</td>\n      <td>False</td>\n      <td>False</td>\n      <td>False</td>\n      <td>False</td>\n      <td>False</td>\n      <td>False</td>\n      <td>False</td>\n      <td>False</td>\n      <td>False</td>\n      <td>False</td>\n      <td>False</td>\n      <td>False</td>\n      <td>False</td>\n      <td>False</td>\n      <td>False</td>\n      <td>False</td>\n      <td>False</td>\n      <td>False</td>\n      <td>False</td>\n      <td>False</td>\n      <td>False</td>\n      <td>False</td>\n      <td>False</td>\n      <td>False</td>\n      <td>False</td>\n      <td>False</td>\n      <td>False</td>\n      <td>False</td>\n      <td>False</td>\n      <td>False</td>\n      <td>False</td>\n      <td>False</td>\n      <td>False</td>\n      <td>False</td>\n      <td>False</td>\n      <td>False</td>\n      <td>False</td>\n      <td>False</td>\n      <td>False</td>\n      <td>False</td>\n      <td>False</td>\n      <td>False</td>\n      <td>False</td>\n      <td>False</td>\n      <td>False</td>\n      <td>False</td>\n      <td>False</td>\n      <td>False</td>\n      <td>False</td>\n      <td>False</td>\n      <td>False</td>\n      <td>False</td>\n      <td>False</td>\n      <td>False</td>\n      <td>False</td>\n      <td>False</td>\n      <td>False</td>\n      <td>False</td>\n      <td>False</td>\n      <td>False</td>\n      <td>False</td>\n      <td>False</td>\n      <td>False</td>\n      <td>False</td>\n      <td>False</td>\n      <td>False</td>\n      <td>False</td>\n      <td>False</td>\n      <td>False</td>\n      <td>False</td>\n      <td>False</td>\n      <td>False</td>\n      <td>False</td>\n      <td>False</td>\n      <td>False</td>\n      <td>False</td>\n      <td>False</td>\n      <td>False</td>\n      <td>False</td>\n      <td>False</td>\n      <td>False</td>\n      <td>False</td>\n      <td>False</td>\n      <td>False</td>\n      <td>False</td>\n      <td>False</td>\n      <td>False</td>\n      <td>False</td>\n      <td>False</td>\n      <td>False</td>\n      <td>False</td>\n      <td>False</td>\n      <td>False</td>\n      <td>False</td>\n      <td>False</td>\n      <td>False</td>\n      <td>False</td>\n      <td>False</td>\n      <td>False</td>\n      <td>False</td>\n      <td>False</td>\n      <td>False</td>\n      <td>False</td>\n      <td>False</td>\n      <td>False</td>\n      <td>False</td>\n      <td>False</td>\n      <td>False</td>\n      <td>False</td>\n      <td>False</td>\n      <td>False</td>\n      <td>False</td>\n      <td>False</td>\n      <td>False</td>\n      <td>False</td>\n      <td>False</td>\n      <td>False</td>\n      <td>False</td>\n      <td>False</td>\n      <td>False</td>\n      <td>False</td>\n      <td>False</td>\n      <td>False</td>\n      <td>False</td>\n      <td>False</td>\n      <td>False</td>\n      <td>False</td>\n      <td>False</td>\n      <td>False</td>\n      <td>False</td>\n      <td>False</td>\n      <td>False</td>\n      <td>False</td>\n      <td>False</td>\n      <td>False</td>\n      <td>False</td>\n      <td>False</td>\n      <td>False</td>\n      <td>False</td>\n      <td>False</td>\n      <td>False</td>\n      <td>False</td>\n      <td>False</td>\n      <td>False</td>\n      <td>False</td>\n      <td>False</td>\n      <td>False</td>\n      <td>False</td>\n      <td>False</td>\n      <td>False</td>\n      <td>False</td>\n      <td>False</td>\n      <td>False</td>\n      <td>False</td>\n      <td>False</td>\n      <td>False</td>\n      <td>False</td>\n      <td>False</td>\n      <td>False</td>\n      <td>False</td>\n      <td>False</td>\n      <td>False</td>\n      <td>False</td>\n      <td>False</td>\n      <td>False</td>\n      <td>False</td>\n      <td>False</td>\n      <td>False</td>\n      <td>False</td>\n      <td>False</td>\n      <td>False</td>\n      <td>False</td>\n      <td>False</td>\n      <td>False</td>\n      <td>False</td>\n      <td>False</td>\n      <td>False</td>\n      <td>False</td>\n      <td>False</td>\n      <td>False</td>\n      <td>False</td>\n      <td>False</td>\n      <td>False</td>\n      <td>False</td>\n      <td>False</td>\n      <td>False</td>\n      <td>False</td>\n      <td>False</td>\n      <td>False</td>\n      <td>False</td>\n      <td>False</td>\n      <td>False</td>\n      <td>False</td>\n      <td>False</td>\n      <td>False</td>\n      <td>False</td>\n      <td>False</td>\n      <td>False</td>\n      <td>False</td>\n      <td>False</td>\n      <td>False</td>\n      <td>False</td>\n      <td>False</td>\n      <td>False</td>\n      <td>False</td>\n      <td>False</td>\n      <td>False</td>\n      <td>False</td>\n      <td>False</td>\n      <td>False</td>\n      <td>False</td>\n      <td>False</td>\n      <td>False</td>\n      <td>False</td>\n      <td>False</td>\n      <td>False</td>\n      <td>False</td>\n      <td>False</td>\n      <td>False</td>\n      <td>False</td>\n      <td>False</td>\n      <td>False</td>\n      <td>False</td>\n      <td>False</td>\n      <td>False</td>\n      <td>False</td>\n      <td>False</td>\n      <td>False</td>\n      <td>False</td>\n      <td>False</td>\n      <td>False</td>\n      <td>False</td>\n      <td>False</td>\n      <td>False</td>\n      <td>False</td>\n      <td>False</td>\n      <td>False</td>\n      <td>False</td>\n      <td>False</td>\n      <td>False</td>\n      <td>False</td>\n      <td>False</td>\n      <td>False</td>\n      <td>False</td>\n      <td>False</td>\n      <td>False</td>\n      <td>False</td>\n      <td>False</td>\n      <td>False</td>\n      <td>False</td>\n      <td>False</td>\n      <td>False</td>\n      <td>False</td>\n      <td>False</td>\n      <td>False</td>\n      <td>False</td>\n      <td>False</td>\n      <td>False</td>\n      <td>False</td>\n      <td>False</td>\n      <td>False</td>\n      <td>False</td>\n      <td>False</td>\n      <td>False</td>\n      <td>False</td>\n      <td>False</td>\n      <td>False</td>\n      <td>False</td>\n      <td>False</td>\n      <td>False</td>\n      <td>False</td>\n      <td>False</td>\n      <td>False</td>\n      <td>False</td>\n      <td>False</td>\n      <td>False</td>\n      <td>False</td>\n      <td>False</td>\n      <td>False</td>\n      <td>False</td>\n      <td>False</td>\n      <td>False</td>\n      <td>False</td>\n      <td>False</td>\n      <td>False</td>\n      <td>False</td>\n      <td>False</td>\n      <td>False</td>\n      <td>False</td>\n      <td>False</td>\n      <td>False</td>\n      <td>False</td>\n      <td>False</td>\n      <td>False</td>\n      <td>False</td>\n      <td>False</td>\n      <td>False</td>\n      <td>False</td>\n      <td>False</td>\n      <td>False</td>\n      <td>False</td>\n      <td>False</td>\n      <td>False</td>\n      <td>False</td>\n      <td>False</td>\n      <td>False</td>\n      <td>False</td>\n      <td>False</td>\n      <td>False</td>\n      <td>False</td>\n      <td>False</td>\n      <td>False</td>\n      <td>False</td>\n      <td>False</td>\n      <td>False</td>\n      <td>False</td>\n      <td>False</td>\n      <td>False</td>\n      <td>False</td>\n      <td>False</td>\n      <td>False</td>\n      <td>False</td>\n      <td>False</td>\n      <td>False</td>\n      <td>False</td>\n      <td>False</td>\n      <td>False</td>\n      <td>False</td>\n      <td>False</td>\n      <td>False</td>\n      <td>False</td>\n      <td>False</td>\n      <td>False</td>\n      <td>False</td>\n      <td>False</td>\n      <td>False</td>\n      <td>False</td>\n      <td>False</td>\n      <td>False</td>\n      <td>False</td>\n      <td>False</td>\n      <td>False</td>\n      <td>False</td>\n      <td>False</td>\n      <td>False</td>\n      <td>False</td>\n      <td>False</td>\n      <td>False</td>\n      <td>False</td>\n      <td>False</td>\n      <td>False</td>\n      <td>False</td>\n      <td>False</td>\n      <td>False</td>\n      <td>False</td>\n      <td>False</td>\n      <td>False</td>\n      <td>False</td>\n      <td>False</td>\n      <td>False</td>\n      <td>False</td>\n      <td>False</td>\n      <td>False</td>\n      <td>False</td>\n      <td>False</td>\n      <td>False</td>\n      <td>False</td>\n      <td>False</td>\n      <td>False</td>\n      <td>False</td>\n      <td>False</td>\n      <td>False</td>\n      <td>False</td>\n      <td>False</td>\n      <td>False</td>\n      <td>False</td>\n      <td>False</td>\n      <td>False</td>\n      <td>False</td>\n      <td>False</td>\n      <td>False</td>\n      <td>False</td>\n      <td>False</td>\n      <td>False</td>\n      <td>True</td>\n      <td>False</td>\n      <td>False</td>\n      <td>False</td>\n      <td>False</td>\n      <td>False</td>\n      <td>False</td>\n      <td>False</td>\n      <td>False</td>\n      <td>False</td>\n      <td>False</td>\n      <td>False</td>\n      <td>False</td>\n      <td>False</td>\n      <td>False</td>\n      <td>False</td>\n      <td>False</td>\n      <td>False</td>\n      <td>False</td>\n      <td>False</td>\n      <td>False</td>\n      <td>False</td>\n      <td>False</td>\n      <td>False</td>\n      <td>False</td>\n      <td>False</td>\n      <td>False</td>\n      <td>False</td>\n      <td>False</td>\n      <td>False</td>\n      <td>False</td>\n      <td>False</td>\n      <td>False</td>\n      <td>False</td>\n      <td>False</td>\n      <td>False</td>\n      <td>False</td>\n      <td>False</td>\n      <td>False</td>\n      <td>False</td>\n      <td>False</td>\n      <td>False</td>\n      <td>False</td>\n      <td>False</td>\n      <td>False</td>\n      <td>False</td>\n      <td>False</td>\n      <td>False</td>\n      <td>False</td>\n      <td>False</td>\n      <td>False</td>\n      <td>False</td>\n      <td>False</td>\n      <td>False</td>\n      <td>False</td>\n      <td>False</td>\n      <td>False</td>\n      <td>False</td>\n      <td>False</td>\n      <td>False</td>\n      <td>False</td>\n      <td>False</td>\n      <td>False</td>\n      <td>False</td>\n      <td>False</td>\n      <td>False</td>\n      <td>False</td>\n      <td>False</td>\n      <td>False</td>\n      <td>False</td>\n      <td>False</td>\n      <td>False</td>\n      <td>False</td>\n      <td>False</td>\n      <td>False</td>\n      <td>False</td>\n      <td>False</td>\n      <td>False</td>\n      <td>False</td>\n      <td>False</td>\n      <td>False</td>\n      <td>False</td>\n      <td>False</td>\n      <td>False</td>\n      <td>False</td>\n      <td>False</td>\n      <td>False</td>\n      <td>False</td>\n      <td>False</td>\n      <td>False</td>\n      <td>False</td>\n      <td>False</td>\n      <td>False</td>\n      <td>False</td>\n      <td>False</td>\n      <td>False</td>\n      <td>False</td>\n      <td>False</td>\n      <td>False</td>\n      <td>False</td>\n      <td>False</td>\n      <td>False</td>\n      <td>False</td>\n      <td>False</td>\n      <td>False</td>\n      <td>False</td>\n      <td>False</td>\n      <td>False</td>\n      <td>False</td>\n      <td>False</td>\n      <td>False</td>\n      <td>False</td>\n      <td>False</td>\n      <td>False</td>\n      <td>False</td>\n      <td>False</td>\n      <td>False</td>\n      <td>False</td>\n      <td>False</td>\n      <td>False</td>\n      <td>False</td>\n      <td>False</td>\n      <td>False</td>\n      <td>False</td>\n      <td>False</td>\n      <td>False</td>\n      <td>False</td>\n      <td>False</td>\n      <td>False</td>\n      <td>False</td>\n      <td>False</td>\n      <td>False</td>\n      <td>False</td>\n      <td>False</td>\n    </tr>\n    <tr>\n      <th>1</th>\n      <td>False</td>\n      <td>False</td>\n      <td>False</td>\n      <td>False</td>\n      <td>False</td>\n      <td>False</td>\n      <td>False</td>\n      <td>False</td>\n      <td>False</td>\n      <td>False</td>\n      <td>False</td>\n      <td>False</td>\n      <td>False</td>\n      <td>False</td>\n      <td>False</td>\n      <td>False</td>\n      <td>False</td>\n      <td>False</td>\n      <td>False</td>\n      <td>False</td>\n      <td>False</td>\n      <td>False</td>\n      <td>False</td>\n      <td>False</td>\n      <td>False</td>\n      <td>False</td>\n      <td>False</td>\n      <td>False</td>\n      <td>False</td>\n      <td>False</td>\n      <td>False</td>\n      <td>False</td>\n      <td>False</td>\n      <td>False</td>\n      <td>False</td>\n      <td>False</td>\n      <td>False</td>\n      <td>False</td>\n      <td>False</td>\n      <td>False</td>\n      <td>False</td>\n      <td>False</td>\n      <td>False</td>\n      <td>False</td>\n      <td>False</td>\n      <td>False</td>\n      <td>False</td>\n      <td>False</td>\n      <td>False</td>\n      <td>False</td>\n      <td>False</td>\n      <td>False</td>\n      <td>False</td>\n      <td>False</td>\n      <td>False</td>\n      <td>False</td>\n      <td>False</td>\n      <td>False</td>\n      <td>False</td>\n      <td>False</td>\n      <td>False</td>\n      <td>False</td>\n      <td>False</td>\n      <td>False</td>\n      <td>False</td>\n      <td>False</td>\n      <td>False</td>\n      <td>False</td>\n      <td>False</td>\n      <td>False</td>\n      <td>False</td>\n      <td>False</td>\n      <td>False</td>\n      <td>False</td>\n      <td>False</td>\n      <td>False</td>\n      <td>False</td>\n      <td>False</td>\n      <td>False</td>\n      <td>False</td>\n      <td>False</td>\n      <td>False</td>\n      <td>False</td>\n      <td>False</td>\n      <td>True</td>\n      <td>False</td>\n      <td>False</td>\n      <td>False</td>\n      <td>False</td>\n      <td>False</td>\n      <td>False</td>\n      <td>False</td>\n      <td>False</td>\n      <td>False</td>\n      <td>False</td>\n      <td>False</td>\n      <td>False</td>\n      <td>False</td>\n      <td>False</td>\n      <td>False</td>\n      <td>False</td>\n      <td>False</td>\n      <td>False</td>\n      <td>False</td>\n      <td>False</td>\n      <td>False</td>\n      <td>False</td>\n      <td>False</td>\n      <td>False</td>\n      <td>False</td>\n      <td>False</td>\n      <td>False</td>\n      <td>False</td>\n      <td>False</td>\n      <td>False</td>\n      <td>False</td>\n      <td>False</td>\n      <td>False</td>\n      <td>False</td>\n      <td>False</td>\n      <td>False</td>\n      <td>False</td>\n      <td>False</td>\n      <td>False</td>\n      <td>False</td>\n      <td>False</td>\n      <td>False</td>\n      <td>False</td>\n      <td>False</td>\n      <td>False</td>\n      <td>False</td>\n      <td>False</td>\n      <td>False</td>\n      <td>False</td>\n      <td>False</td>\n      <td>False</td>\n      <td>False</td>\n      <td>False</td>\n      <td>False</td>\n      <td>False</td>\n      <td>False</td>\n      <td>False</td>\n      <td>False</td>\n      <td>False</td>\n      <td>False</td>\n      <td>False</td>\n      <td>False</td>\n      <td>False</td>\n      <td>False</td>\n      <td>False</td>\n      <td>False</td>\n      <td>False</td>\n      <td>False</td>\n      <td>False</td>\n      <td>False</td>\n      <td>False</td>\n      <td>False</td>\n      <td>False</td>\n      <td>False</td>\n      <td>False</td>\n      <td>False</td>\n      <td>False</td>\n      <td>False</td>\n      <td>False</td>\n      <td>False</td>\n      <td>False</td>\n      <td>False</td>\n      <td>False</td>\n      <td>False</td>\n      <td>False</td>\n      <td>False</td>\n      <td>False</td>\n      <td>False</td>\n      <td>False</td>\n      <td>False</td>\n      <td>False</td>\n      <td>False</td>\n      <td>False</td>\n      <td>False</td>\n      <td>False</td>\n      <td>False</td>\n      <td>False</td>\n      <td>False</td>\n      <td>False</td>\n      <td>False</td>\n      <td>False</td>\n      <td>False</td>\n      <td>False</td>\n      <td>False</td>\n      <td>False</td>\n      <td>False</td>\n      <td>False</td>\n      <td>False</td>\n      <td>False</td>\n      <td>False</td>\n      <td>False</td>\n      <td>False</td>\n      <td>False</td>\n      <td>False</td>\n      <td>False</td>\n      <td>False</td>\n      <td>False</td>\n      <td>False</td>\n      <td>False</td>\n      <td>False</td>\n      <td>False</td>\n      <td>False</td>\n      <td>False</td>\n      <td>False</td>\n      <td>False</td>\n      <td>False</td>\n      <td>False</td>\n      <td>False</td>\n      <td>False</td>\n      <td>False</td>\n      <td>False</td>\n      <td>False</td>\n      <td>False</td>\n      <td>False</td>\n      <td>False</td>\n      <td>False</td>\n      <td>False</td>\n      <td>False</td>\n      <td>False</td>\n      <td>False</td>\n      <td>False</td>\n      <td>False</td>\n      <td>False</td>\n      <td>False</td>\n      <td>False</td>\n      <td>False</td>\n      <td>False</td>\n      <td>False</td>\n      <td>False</td>\n      <td>False</td>\n      <td>False</td>\n      <td>False</td>\n      <td>False</td>\n      <td>False</td>\n      <td>False</td>\n      <td>False</td>\n      <td>False</td>\n      <td>False</td>\n      <td>False</td>\n      <td>False</td>\n      <td>False</td>\n      <td>False</td>\n      <td>False</td>\n      <td>False</td>\n      <td>False</td>\n      <td>False</td>\n      <td>False</td>\n      <td>False</td>\n      <td>False</td>\n      <td>False</td>\n      <td>False</td>\n      <td>False</td>\n      <td>False</td>\n      <td>False</td>\n      <td>False</td>\n      <td>False</td>\n      <td>False</td>\n      <td>False</td>\n      <td>False</td>\n      <td>False</td>\n      <td>False</td>\n      <td>False</td>\n      <td>False</td>\n      <td>False</td>\n      <td>False</td>\n      <td>False</td>\n      <td>False</td>\n      <td>False</td>\n      <td>False</td>\n      <td>False</td>\n      <td>False</td>\n      <td>False</td>\n      <td>False</td>\n      <td>False</td>\n      <td>False</td>\n      <td>False</td>\n      <td>False</td>\n      <td>False</td>\n      <td>False</td>\n      <td>False</td>\n      <td>False</td>\n      <td>False</td>\n      <td>False</td>\n      <td>False</td>\n      <td>False</td>\n      <td>False</td>\n      <td>False</td>\n      <td>False</td>\n      <td>False</td>\n      <td>False</td>\n      <td>False</td>\n      <td>False</td>\n      <td>False</td>\n      <td>False</td>\n      <td>False</td>\n      <td>False</td>\n      <td>False</td>\n      <td>False</td>\n      <td>False</td>\n      <td>False</td>\n      <td>False</td>\n      <td>False</td>\n      <td>False</td>\n      <td>False</td>\n      <td>False</td>\n      <td>False</td>\n      <td>False</td>\n      <td>False</td>\n      <td>False</td>\n      <td>False</td>\n      <td>False</td>\n      <td>False</td>\n      <td>False</td>\n      <td>False</td>\n      <td>False</td>\n      <td>False</td>\n      <td>False</td>\n      <td>False</td>\n      <td>False</td>\n      <td>False</td>\n      <td>False</td>\n      <td>False</td>\n      <td>False</td>\n      <td>False</td>\n      <td>False</td>\n      <td>False</td>\n      <td>False</td>\n      <td>False</td>\n      <td>False</td>\n      <td>False</td>\n      <td>False</td>\n      <td>False</td>\n      <td>False</td>\n      <td>False</td>\n      <td>False</td>\n      <td>False</td>\n      <td>False</td>\n      <td>False</td>\n      <td>False</td>\n      <td>False</td>\n      <td>False</td>\n      <td>False</td>\n      <td>False</td>\n      <td>False</td>\n      <td>False</td>\n      <td>False</td>\n      <td>False</td>\n      <td>False</td>\n      <td>False</td>\n      <td>False</td>\n      <td>False</td>\n      <td>False</td>\n      <td>False</td>\n      <td>False</td>\n      <td>False</td>\n      <td>False</td>\n      <td>False</td>\n      <td>False</td>\n      <td>False</td>\n      <td>False</td>\n      <td>False</td>\n      <td>False</td>\n      <td>False</td>\n      <td>False</td>\n      <td>False</td>\n      <td>False</td>\n      <td>False</td>\n      <td>False</td>\n      <td>False</td>\n      <td>False</td>\n      <td>False</td>\n      <td>False</td>\n      <td>False</td>\n      <td>False</td>\n      <td>False</td>\n      <td>False</td>\n      <td>False</td>\n      <td>False</td>\n      <td>False</td>\n      <td>False</td>\n      <td>False</td>\n      <td>False</td>\n      <td>False</td>\n      <td>False</td>\n      <td>False</td>\n      <td>False</td>\n      <td>False</td>\n      <td>False</td>\n      <td>False</td>\n      <td>False</td>\n      <td>False</td>\n      <td>True</td>\n      <td>False</td>\n      <td>False</td>\n      <td>True</td>\n      <td>False</td>\n      <td>False</td>\n      <td>False</td>\n      <td>False</td>\n      <td>False</td>\n      <td>False</td>\n      <td>False</td>\n      <td>False</td>\n      <td>False</td>\n      <td>False</td>\n      <td>False</td>\n      <td>False</td>\n      <td>False</td>\n      <td>False</td>\n      <td>False</td>\n      <td>False</td>\n      <td>False</td>\n      <td>False</td>\n      <td>False</td>\n      <td>False</td>\n      <td>False</td>\n      <td>False</td>\n      <td>False</td>\n      <td>False</td>\n      <td>False</td>\n      <td>False</td>\n      <td>False</td>\n      <td>False</td>\n      <td>False</td>\n      <td>False</td>\n      <td>False</td>\n      <td>False</td>\n      <td>False</td>\n      <td>False</td>\n      <td>False</td>\n      <td>False</td>\n      <td>False</td>\n      <td>False</td>\n      <td>False</td>\n      <td>False</td>\n      <td>False</td>\n      <td>False</td>\n      <td>False</td>\n      <td>False</td>\n      <td>False</td>\n      <td>False</td>\n      <td>True</td>\n      <td>False</td>\n      <td>False</td>\n      <td>False</td>\n      <td>False</td>\n      <td>False</td>\n      <td>False</td>\n      <td>False</td>\n      <td>False</td>\n      <td>False</td>\n      <td>False</td>\n      <td>False</td>\n      <td>False</td>\n      <td>False</td>\n      <td>False</td>\n      <td>True</td>\n      <td>False</td>\n      <td>False</td>\n      <td>False</td>\n      <td>False</td>\n      <td>False</td>\n      <td>False</td>\n      <td>False</td>\n      <td>False</td>\n      <td>False</td>\n      <td>False</td>\n      <td>False</td>\n      <td>False</td>\n      <td>False</td>\n      <td>False</td>\n      <td>False</td>\n      <td>False</td>\n      <td>False</td>\n      <td>False</td>\n      <td>False</td>\n      <td>False</td>\n      <td>False</td>\n      <td>False</td>\n      <td>False</td>\n      <td>False</td>\n      <td>False</td>\n      <td>False</td>\n      <td>False</td>\n      <td>False</td>\n      <td>False</td>\n      <td>False</td>\n      <td>False</td>\n      <td>False</td>\n      <td>False</td>\n      <td>False</td>\n      <td>False</td>\n      <td>False</td>\n      <td>False</td>\n      <td>False</td>\n      <td>False</td>\n      <td>False</td>\n      <td>False</td>\n      <td>False</td>\n      <td>False</td>\n      <td>False</td>\n      <td>False</td>\n      <td>False</td>\n      <td>False</td>\n      <td>False</td>\n      <td>False</td>\n      <td>False</td>\n      <td>False</td>\n      <td>False</td>\n      <td>False</td>\n      <td>False</td>\n      <td>False</td>\n      <td>False</td>\n      <td>False</td>\n      <td>False</td>\n      <td>False</td>\n      <td>False</td>\n      <td>False</td>\n      <td>False</td>\n      <td>False</td>\n      <td>False</td>\n      <td>False</td>\n      <td>False</td>\n      <td>False</td>\n      <td>False</td>\n      <td>False</td>\n      <td>False</td>\n      <td>False</td>\n      <td>False</td>\n      <td>False</td>\n      <td>False</td>\n      <td>False</td>\n      <td>False</td>\n      <td>False</td>\n      <td>False</td>\n      <td>False</td>\n      <td>False</td>\n      <td>False</td>\n      <td>False</td>\n      <td>False</td>\n      <td>False</td>\n      <td>False</td>\n      <td>False</td>\n      <td>False</td>\n      <td>False</td>\n      <td>False</td>\n      <td>False</td>\n      <td>False</td>\n      <td>False</td>\n      <td>False</td>\n      <td>False</td>\n      <td>False</td>\n      <td>False</td>\n      <td>False</td>\n      <td>False</td>\n      <td>False</td>\n      <td>False</td>\n      <td>False</td>\n      <td>False</td>\n      <td>False</td>\n      <td>False</td>\n      <td>False</td>\n      <td>False</td>\n      <td>False</td>\n      <td>False</td>\n      <td>False</td>\n      <td>False</td>\n      <td>False</td>\n      <td>False</td>\n      <td>False</td>\n      <td>False</td>\n      <td>False</td>\n      <td>False</td>\n      <td>False</td>\n      <td>False</td>\n      <td>False</td>\n      <td>False</td>\n      <td>False</td>\n      <td>False</td>\n      <td>False</td>\n      <td>False</td>\n      <td>False</td>\n      <td>False</td>\n      <td>False</td>\n      <td>False</td>\n      <td>False</td>\n      <td>False</td>\n      <td>False</td>\n      <td>False</td>\n      <td>False</td>\n      <td>False</td>\n      <td>False</td>\n      <td>False</td>\n      <td>False</td>\n      <td>False</td>\n      <td>False</td>\n      <td>False</td>\n      <td>False</td>\n      <td>False</td>\n      <td>False</td>\n      <td>False</td>\n      <td>False</td>\n      <td>False</td>\n      <td>False</td>\n      <td>False</td>\n      <td>False</td>\n      <td>False</td>\n      <td>False</td>\n      <td>False</td>\n      <td>False</td>\n      <td>False</td>\n      <td>False</td>\n      <td>False</td>\n      <td>False</td>\n      <td>False</td>\n      <td>False</td>\n      <td>False</td>\n      <td>False</td>\n      <td>False</td>\n      <td>False</td>\n      <td>False</td>\n      <td>False</td>\n      <td>False</td>\n      <td>False</td>\n      <td>False</td>\n      <td>False</td>\n      <td>False</td>\n      <td>False</td>\n      <td>False</td>\n      <td>False</td>\n      <td>False</td>\n      <td>False</td>\n      <td>False</td>\n      <td>False</td>\n      <td>False</td>\n      <td>False</td>\n      <td>False</td>\n      <td>False</td>\n      <td>False</td>\n      <td>False</td>\n      <td>False</td>\n      <td>False</td>\n      <td>False</td>\n      <td>False</td>\n      <td>False</td>\n      <td>False</td>\n      <td>False</td>\n      <td>False</td>\n      <td>False</td>\n      <td>False</td>\n      <td>False</td>\n      <td>False</td>\n      <td>False</td>\n      <td>False</td>\n      <td>False</td>\n      <td>False</td>\n      <td>False</td>\n      <td>False</td>\n      <td>False</td>\n      <td>False</td>\n      <td>False</td>\n      <td>False</td>\n      <td>False</td>\n      <td>False</td>\n      <td>False</td>\n      <td>False</td>\n      <td>False</td>\n      <td>False</td>\n      <td>False</td>\n      <td>False</td>\n      <td>False</td>\n      <td>False</td>\n    </tr>\n    <tr>\n      <th>2</th>\n      <td>False</td>\n      <td>False</td>\n      <td>False</td>\n      <td>False</td>\n      <td>False</td>\n      <td>False</td>\n      <td>False</td>\n      <td>False</td>\n      <td>False</td>\n      <td>False</td>\n      <td>False</td>\n      <td>False</td>\n      <td>False</td>\n      <td>False</td>\n      <td>False</td>\n      <td>False</td>\n      <td>False</td>\n      <td>False</td>\n      <td>False</td>\n      <td>False</td>\n      <td>False</td>\n      <td>False</td>\n      <td>False</td>\n      <td>False</td>\n      <td>False</td>\n      <td>False</td>\n      <td>False</td>\n      <td>False</td>\n      <td>False</td>\n      <td>False</td>\n      <td>False</td>\n      <td>False</td>\n      <td>False</td>\n      <td>False</td>\n      <td>False</td>\n      <td>False</td>\n      <td>False</td>\n      <td>False</td>\n      <td>False</td>\n      <td>False</td>\n      <td>False</td>\n      <td>False</td>\n      <td>False</td>\n      <td>False</td>\n      <td>False</td>\n      <td>False</td>\n      <td>False</td>\n      <td>False</td>\n      <td>False</td>\n      <td>False</td>\n      <td>False</td>\n      <td>False</td>\n      <td>False</td>\n      <td>False</td>\n      <td>False</td>\n      <td>False</td>\n      <td>False</td>\n      <td>False</td>\n      <td>False</td>\n      <td>False</td>\n      <td>False</td>\n      <td>False</td>\n      <td>False</td>\n      <td>False</td>\n      <td>False</td>\n      <td>False</td>\n      <td>False</td>\n      <td>True</td>\n      <td>False</td>\n      <td>False</td>\n      <td>False</td>\n      <td>False</td>\n      <td>False</td>\n      <td>False</td>\n      <td>False</td>\n      <td>False</td>\n      <td>False</td>\n      <td>False</td>\n      <td>False</td>\n      <td>False</td>\n      <td>False</td>\n      <td>False</td>\n      <td>False</td>\n      <td>False</td>\n      <td>False</td>\n      <td>False</td>\n      <td>False</td>\n      <td>False</td>\n      <td>False</td>\n      <td>False</td>\n      <td>False</td>\n      <td>False</td>\n      <td>False</td>\n      <td>False</td>\n      <td>False</td>\n      <td>False</td>\n      <td>False</td>\n      <td>False</td>\n      <td>False</td>\n      <td>False</td>\n      <td>False</td>\n      <td>False</td>\n      <td>False</td>\n      <td>False</td>\n      <td>False</td>\n      <td>False</td>\n      <td>False</td>\n      <td>False</td>\n      <td>False</td>\n      <td>False</td>\n      <td>False</td>\n      <td>False</td>\n      <td>False</td>\n      <td>False</td>\n      <td>False</td>\n      <td>False</td>\n      <td>False</td>\n      <td>False</td>\n      <td>False</td>\n      <td>False</td>\n      <td>False</td>\n      <td>False</td>\n      <td>False</td>\n      <td>False</td>\n      <td>False</td>\n      <td>False</td>\n      <td>False</td>\n      <td>False</td>\n      <td>False</td>\n      <td>False</td>\n      <td>False</td>\n      <td>False</td>\n      <td>False</td>\n      <td>False</td>\n      <td>False</td>\n      <td>False</td>\n      <td>False</td>\n      <td>False</td>\n      <td>False</td>\n      <td>False</td>\n      <td>False</td>\n      <td>False</td>\n      <td>False</td>\n      <td>False</td>\n      <td>False</td>\n      <td>False</td>\n      <td>False</td>\n      <td>False</td>\n      <td>False</td>\n      <td>False</td>\n      <td>False</td>\n      <td>False</td>\n      <td>False</td>\n      <td>False</td>\n      <td>False</td>\n      <td>False</td>\n      <td>False</td>\n      <td>False</td>\n      <td>False</td>\n      <td>False</td>\n      <td>False</td>\n      <td>False</td>\n      <td>False</td>\n      <td>False</td>\n      <td>False</td>\n      <td>False</td>\n      <td>False</td>\n      <td>False</td>\n      <td>False</td>\n      <td>False</td>\n      <td>False</td>\n      <td>False</td>\n      <td>False</td>\n      <td>False</td>\n      <td>False</td>\n      <td>False</td>\n      <td>False</td>\n      <td>False</td>\n      <td>False</td>\n      <td>False</td>\n      <td>False</td>\n      <td>False</td>\n      <td>False</td>\n      <td>False</td>\n      <td>False</td>\n      <td>False</td>\n      <td>False</td>\n      <td>False</td>\n      <td>False</td>\n      <td>False</td>\n      <td>False</td>\n      <td>False</td>\n      <td>False</td>\n      <td>False</td>\n      <td>False</td>\n      <td>False</td>\n      <td>False</td>\n      <td>False</td>\n      <td>False</td>\n      <td>False</td>\n      <td>False</td>\n      <td>False</td>\n      <td>False</td>\n      <td>False</td>\n      <td>False</td>\n      <td>False</td>\n      <td>False</td>\n      <td>False</td>\n      <td>False</td>\n      <td>False</td>\n      <td>False</td>\n      <td>False</td>\n      <td>False</td>\n      <td>False</td>\n      <td>False</td>\n      <td>False</td>\n      <td>False</td>\n      <td>False</td>\n      <td>False</td>\n      <td>False</td>\n      <td>False</td>\n      <td>False</td>\n      <td>False</td>\n      <td>False</td>\n      <td>False</td>\n      <td>False</td>\n      <td>False</td>\n      <td>False</td>\n      <td>False</td>\n      <td>False</td>\n      <td>False</td>\n      <td>False</td>\n      <td>False</td>\n      <td>False</td>\n      <td>False</td>\n      <td>False</td>\n      <td>False</td>\n      <td>False</td>\n      <td>False</td>\n      <td>False</td>\n      <td>False</td>\n      <td>False</td>\n      <td>False</td>\n      <td>False</td>\n      <td>False</td>\n      <td>False</td>\n      <td>False</td>\n      <td>False</td>\n      <td>False</td>\n      <td>False</td>\n      <td>False</td>\n      <td>False</td>\n      <td>False</td>\n      <td>False</td>\n      <td>False</td>\n      <td>False</td>\n      <td>False</td>\n      <td>False</td>\n      <td>False</td>\n      <td>False</td>\n      <td>False</td>\n      <td>False</td>\n      <td>False</td>\n      <td>False</td>\n      <td>False</td>\n      <td>False</td>\n      <td>False</td>\n      <td>False</td>\n      <td>False</td>\n      <td>False</td>\n      <td>False</td>\n      <td>False</td>\n      <td>False</td>\n      <td>False</td>\n      <td>False</td>\n      <td>False</td>\n      <td>False</td>\n      <td>False</td>\n      <td>False</td>\n      <td>False</td>\n      <td>False</td>\n      <td>False</td>\n      <td>False</td>\n      <td>False</td>\n      <td>False</td>\n      <td>False</td>\n      <td>False</td>\n      <td>False</td>\n      <td>False</td>\n      <td>False</td>\n      <td>False</td>\n      <td>False</td>\n      <td>False</td>\n      <td>False</td>\n      <td>False</td>\n      <td>False</td>\n      <td>False</td>\n      <td>False</td>\n      <td>False</td>\n      <td>False</td>\n      <td>False</td>\n      <td>False</td>\n      <td>False</td>\n      <td>False</td>\n      <td>False</td>\n      <td>False</td>\n      <td>False</td>\n      <td>False</td>\n      <td>False</td>\n      <td>False</td>\n      <td>False</td>\n      <td>False</td>\n      <td>False</td>\n      <td>False</td>\n      <td>False</td>\n      <td>False</td>\n      <td>False</td>\n      <td>False</td>\n      <td>False</td>\n      <td>False</td>\n      <td>False</td>\n      <td>False</td>\n      <td>False</td>\n      <td>False</td>\n      <td>False</td>\n      <td>False</td>\n      <td>False</td>\n      <td>False</td>\n      <td>False</td>\n      <td>False</td>\n      <td>False</td>\n      <td>False</td>\n      <td>False</td>\n      <td>False</td>\n      <td>False</td>\n      <td>False</td>\n      <td>False</td>\n      <td>False</td>\n      <td>False</td>\n      <td>False</td>\n      <td>False</td>\n      <td>False</td>\n      <td>False</td>\n      <td>False</td>\n      <td>False</td>\n      <td>False</td>\n      <td>False</td>\n      <td>False</td>\n      <td>False</td>\n      <td>False</td>\n      <td>False</td>\n      <td>False</td>\n      <td>False</td>\n      <td>False</td>\n      <td>False</td>\n      <td>False</td>\n      <td>False</td>\n      <td>False</td>\n      <td>False</td>\n      <td>False</td>\n      <td>False</td>\n      <td>False</td>\n      <td>False</td>\n      <td>False</td>\n      <td>False</td>\n      <td>False</td>\n      <td>False</td>\n      <td>False</td>\n      <td>False</td>\n      <td>False</td>\n      <td>False</td>\n      <td>False</td>\n      <td>False</td>\n      <td>False</td>\n      <td>False</td>\n      <td>False</td>\n      <td>False</td>\n      <td>False</td>\n      <td>False</td>\n      <td>False</td>\n      <td>False</td>\n      <td>False</td>\n      <td>False</td>\n      <td>False</td>\n      <td>False</td>\n      <td>False</td>\n      <td>False</td>\n      <td>False</td>\n      <td>False</td>\n      <td>False</td>\n      <td>False</td>\n      <td>False</td>\n      <td>False</td>\n      <td>False</td>\n      <td>False</td>\n      <td>False</td>\n      <td>False</td>\n      <td>False</td>\n      <td>False</td>\n      <td>False</td>\n      <td>False</td>\n      <td>False</td>\n      <td>False</td>\n      <td>False</td>\n      <td>False</td>\n      <td>False</td>\n      <td>False</td>\n      <td>False</td>\n      <td>False</td>\n      <td>False</td>\n      <td>False</td>\n      <td>False</td>\n      <td>False</td>\n      <td>False</td>\n      <td>False</td>\n      <td>False</td>\n      <td>False</td>\n      <td>False</td>\n      <td>False</td>\n      <td>False</td>\n      <td>False</td>\n      <td>False</td>\n      <td>False</td>\n      <td>False</td>\n      <td>False</td>\n      <td>False</td>\n      <td>False</td>\n      <td>False</td>\n      <td>False</td>\n      <td>False</td>\n      <td>False</td>\n      <td>False</td>\n      <td>False</td>\n      <td>False</td>\n      <td>False</td>\n      <td>False</td>\n      <td>False</td>\n      <td>False</td>\n      <td>False</td>\n      <td>False</td>\n      <td>False</td>\n      <td>False</td>\n      <td>False</td>\n      <td>False</td>\n      <td>False</td>\n      <td>False</td>\n      <td>False</td>\n      <td>False</td>\n      <td>True</td>\n      <td>False</td>\n      <td>False</td>\n      <td>False</td>\n      <td>False</td>\n      <td>False</td>\n      <td>False</td>\n      <td>False</td>\n      <td>False</td>\n      <td>False</td>\n      <td>False</td>\n      <td>False</td>\n      <td>False</td>\n      <td>False</td>\n      <td>False</td>\n      <td>False</td>\n      <td>False</td>\n      <td>False</td>\n      <td>False</td>\n      <td>False</td>\n      <td>False</td>\n      <td>False</td>\n      <td>False</td>\n      <td>False</td>\n      <td>False</td>\n      <td>False</td>\n      <td>False</td>\n      <td>False</td>\n      <td>False</td>\n      <td>False</td>\n      <td>False</td>\n      <td>False</td>\n      <td>False</td>\n      <td>False</td>\n      <td>False</td>\n      <td>False</td>\n      <td>False</td>\n      <td>False</td>\n      <td>False</td>\n      <td>False</td>\n      <td>False</td>\n      <td>False</td>\n      <td>False</td>\n      <td>False</td>\n      <td>False</td>\n      <td>False</td>\n      <td>False</td>\n      <td>False</td>\n      <td>False</td>\n      <td>False</td>\n      <td>False</td>\n      <td>False</td>\n      <td>False</td>\n      <td>False</td>\n      <td>False</td>\n      <td>False</td>\n      <td>False</td>\n      <td>False</td>\n      <td>False</td>\n      <td>False</td>\n      <td>False</td>\n      <td>False</td>\n      <td>False</td>\n      <td>False</td>\n      <td>False</td>\n      <td>False</td>\n      <td>False</td>\n      <td>False</td>\n      <td>False</td>\n      <td>False</td>\n      <td>False</td>\n      <td>False</td>\n      <td>False</td>\n      <td>False</td>\n      <td>False</td>\n      <td>False</td>\n      <td>False</td>\n      <td>False</td>\n      <td>False</td>\n      <td>False</td>\n      <td>False</td>\n      <td>False</td>\n      <td>False</td>\n      <td>False</td>\n      <td>False</td>\n      <td>False</td>\n      <td>False</td>\n      <td>False</td>\n      <td>False</td>\n      <td>False</td>\n      <td>False</td>\n      <td>False</td>\n      <td>False</td>\n      <td>False</td>\n      <td>False</td>\n      <td>True</td>\n      <td>False</td>\n      <td>False</td>\n      <td>False</td>\n      <td>False</td>\n      <td>False</td>\n      <td>False</td>\n      <td>False</td>\n      <td>False</td>\n      <td>False</td>\n      <td>False</td>\n      <td>False</td>\n      <td>False</td>\n      <td>False</td>\n      <td>False</td>\n      <td>False</td>\n      <td>False</td>\n      <td>False</td>\n      <td>False</td>\n      <td>False</td>\n      <td>False</td>\n      <td>False</td>\n      <td>False</td>\n      <td>False</td>\n      <td>False</td>\n      <td>False</td>\n      <td>False</td>\n      <td>False</td>\n      <td>False</td>\n      <td>False</td>\n      <td>False</td>\n      <td>False</td>\n      <td>False</td>\n      <td>False</td>\n      <td>False</td>\n      <td>False</td>\n      <td>False</td>\n      <td>False</td>\n      <td>False</td>\n      <td>False</td>\n      <td>False</td>\n      <td>False</td>\n      <td>False</td>\n      <td>False</td>\n      <td>False</td>\n      <td>False</td>\n      <td>False</td>\n      <td>False</td>\n      <td>False</td>\n      <td>False</td>\n      <td>False</td>\n      <td>False</td>\n      <td>False</td>\n      <td>False</td>\n      <td>False</td>\n      <td>False</td>\n      <td>False</td>\n      <td>False</td>\n      <td>False</td>\n      <td>False</td>\n      <td>False</td>\n      <td>False</td>\n      <td>False</td>\n      <td>False</td>\n      <td>False</td>\n      <td>False</td>\n      <td>False</td>\n      <td>False</td>\n      <td>False</td>\n      <td>False</td>\n      <td>False</td>\n      <td>False</td>\n      <td>False</td>\n      <td>False</td>\n      <td>False</td>\n      <td>False</td>\n      <td>False</td>\n      <td>False</td>\n      <td>False</td>\n      <td>False</td>\n      <td>False</td>\n      <td>False</td>\n      <td>False</td>\n      <td>False</td>\n      <td>False</td>\n      <td>False</td>\n      <td>False</td>\n      <td>False</td>\n      <td>False</td>\n      <td>False</td>\n      <td>False</td>\n      <td>False</td>\n      <td>False</td>\n      <td>False</td>\n      <td>False</td>\n      <td>False</td>\n      <td>False</td>\n      <td>False</td>\n      <td>False</td>\n      <td>False</td>\n      <td>False</td>\n      <td>False</td>\n      <td>False</td>\n      <td>False</td>\n      <td>False</td>\n      <td>False</td>\n      <td>False</td>\n      <td>False</td>\n      <td>False</td>\n      <td>False</td>\n      <td>False</td>\n      <td>False</td>\n      <td>False</td>\n      <td>False</td>\n      <td>False</td>\n      <td>False</td>\n      <td>False</td>\n      <td>False</td>\n      <td>False</td>\n      <td>False</td>\n      <td>False</td>\n      <td>False</td>\n      <td>False</td>\n      <td>False</td>\n      <td>False</td>\n      <td>False</td>\n      <td>False</td>\n      <td>False</td>\n      <td>False</td>\n      <td>False</td>\n      <td>False</td>\n      <td>False</td>\n      <td>False</td>\n      <td>False</td>\n    </tr>\n    <tr>\n      <th>3</th>\n      <td>False</td>\n      <td>False</td>\n      <td>False</td>\n      <td>False</td>\n      <td>False</td>\n      <td>False</td>\n      <td>False</td>\n      <td>False</td>\n      <td>False</td>\n      <td>False</td>\n      <td>False</td>\n      <td>False</td>\n      <td>False</td>\n      <td>False</td>\n      <td>False</td>\n      <td>False</td>\n      <td>False</td>\n      <td>False</td>\n      <td>False</td>\n      <td>False</td>\n      <td>False</td>\n      <td>False</td>\n      <td>False</td>\n      <td>False</td>\n      <td>False</td>\n      <td>False</td>\n      <td>False</td>\n      <td>False</td>\n      <td>False</td>\n      <td>False</td>\n      <td>False</td>\n      <td>False</td>\n      <td>False</td>\n      <td>False</td>\n      <td>False</td>\n      <td>False</td>\n      <td>False</td>\n      <td>False</td>\n      <td>False</td>\n      <td>False</td>\n      <td>False</td>\n      <td>False</td>\n      <td>False</td>\n      <td>False</td>\n      <td>False</td>\n      <td>False</td>\n      <td>False</td>\n      <td>False</td>\n      <td>False</td>\n      <td>False</td>\n      <td>False</td>\n      <td>False</td>\n      <td>False</td>\n      <td>False</td>\n      <td>False</td>\n      <td>False</td>\n      <td>False</td>\n      <td>False</td>\n      <td>False</td>\n      <td>False</td>\n      <td>False</td>\n      <td>False</td>\n      <td>False</td>\n      <td>False</td>\n      <td>False</td>\n      <td>False</td>\n      <td>False</td>\n      <td>False</td>\n      <td>False</td>\n      <td>False</td>\n      <td>False</td>\n      <td>False</td>\n      <td>False</td>\n      <td>False</td>\n      <td>False</td>\n      <td>False</td>\n      <td>False</td>\n      <td>False</td>\n      <td>False</td>\n      <td>False</td>\n      <td>False</td>\n      <td>False</td>\n      <td>False</td>\n      <td>False</td>\n      <td>False</td>\n      <td>False</td>\n      <td>False</td>\n      <td>False</td>\n      <td>False</td>\n      <td>False</td>\n      <td>False</td>\n      <td>False</td>\n      <td>False</td>\n      <td>False</td>\n      <td>False</td>\n      <td>False</td>\n      <td>False</td>\n      <td>False</td>\n      <td>False</td>\n      <td>False</td>\n      <td>False</td>\n      <td>False</td>\n      <td>False</td>\n      <td>False</td>\n      <td>False</td>\n      <td>False</td>\n      <td>False</td>\n      <td>False</td>\n      <td>False</td>\n      <td>False</td>\n      <td>False</td>\n      <td>False</td>\n      <td>False</td>\n      <td>False</td>\n      <td>False</td>\n      <td>False</td>\n      <td>False</td>\n      <td>False</td>\n      <td>False</td>\n      <td>False</td>\n      <td>False</td>\n      <td>False</td>\n      <td>False</td>\n      <td>False</td>\n      <td>False</td>\n      <td>False</td>\n      <td>False</td>\n      <td>False</td>\n      <td>False</td>\n      <td>False</td>\n      <td>False</td>\n      <td>False</td>\n      <td>False</td>\n      <td>False</td>\n      <td>False</td>\n      <td>False</td>\n      <td>False</td>\n      <td>False</td>\n      <td>False</td>\n      <td>False</td>\n      <td>False</td>\n      <td>False</td>\n      <td>False</td>\n      <td>False</td>\n      <td>False</td>\n      <td>False</td>\n      <td>False</td>\n      <td>False</td>\n      <td>False</td>\n      <td>False</td>\n      <td>False</td>\n      <td>False</td>\n      <td>False</td>\n      <td>False</td>\n      <td>False</td>\n      <td>False</td>\n      <td>False</td>\n      <td>False</td>\n      <td>False</td>\n      <td>False</td>\n      <td>False</td>\n      <td>False</td>\n      <td>False</td>\n      <td>False</td>\n      <td>False</td>\n      <td>True</td>\n      <td>False</td>\n      <td>False</td>\n      <td>False</td>\n      <td>False</td>\n      <td>False</td>\n      <td>False</td>\n      <td>False</td>\n      <td>False</td>\n      <td>False</td>\n      <td>False</td>\n      <td>False</td>\n      <td>False</td>\n      <td>False</td>\n      <td>False</td>\n      <td>False</td>\n      <td>False</td>\n      <td>False</td>\n      <td>False</td>\n      <td>False</td>\n      <td>False</td>\n      <td>False</td>\n      <td>False</td>\n      <td>False</td>\n      <td>False</td>\n      <td>False</td>\n      <td>False</td>\n      <td>False</td>\n      <td>False</td>\n      <td>False</td>\n      <td>False</td>\n      <td>False</td>\n      <td>False</td>\n      <td>False</td>\n      <td>False</td>\n      <td>False</td>\n      <td>False</td>\n      <td>False</td>\n      <td>False</td>\n      <td>False</td>\n      <td>False</td>\n      <td>False</td>\n      <td>False</td>\n      <td>False</td>\n      <td>False</td>\n      <td>False</td>\n      <td>False</td>\n      <td>False</td>\n      <td>False</td>\n      <td>False</td>\n      <td>False</td>\n      <td>False</td>\n      <td>False</td>\n      <td>False</td>\n      <td>False</td>\n      <td>False</td>\n      <td>False</td>\n      <td>False</td>\n      <td>False</td>\n      <td>False</td>\n      <td>False</td>\n      <td>False</td>\n      <td>False</td>\n      <td>False</td>\n      <td>False</td>\n      <td>False</td>\n      <td>False</td>\n      <td>False</td>\n      <td>False</td>\n      <td>False</td>\n      <td>False</td>\n      <td>False</td>\n      <td>False</td>\n      <td>False</td>\n      <td>False</td>\n      <td>False</td>\n      <td>False</td>\n      <td>False</td>\n      <td>False</td>\n      <td>False</td>\n      <td>False</td>\n      <td>False</td>\n      <td>False</td>\n      <td>False</td>\n      <td>False</td>\n      <td>False</td>\n      <td>False</td>\n      <td>False</td>\n      <td>False</td>\n      <td>False</td>\n      <td>False</td>\n      <td>False</td>\n      <td>False</td>\n      <td>False</td>\n      <td>False</td>\n      <td>False</td>\n      <td>False</td>\n      <td>False</td>\n      <td>False</td>\n      <td>False</td>\n      <td>False</td>\n      <td>False</td>\n      <td>False</td>\n      <td>False</td>\n      <td>False</td>\n      <td>False</td>\n      <td>False</td>\n      <td>False</td>\n      <td>False</td>\n      <td>False</td>\n      <td>False</td>\n      <td>False</td>\n      <td>False</td>\n      <td>False</td>\n      <td>False</td>\n      <td>False</td>\n      <td>False</td>\n      <td>False</td>\n      <td>False</td>\n      <td>False</td>\n      <td>False</td>\n      <td>False</td>\n      <td>False</td>\n      <td>False</td>\n      <td>False</td>\n      <td>False</td>\n      <td>False</td>\n      <td>False</td>\n      <td>False</td>\n      <td>False</td>\n      <td>False</td>\n      <td>False</td>\n      <td>False</td>\n      <td>False</td>\n      <td>False</td>\n      <td>False</td>\n      <td>False</td>\n      <td>False</td>\n      <td>False</td>\n      <td>False</td>\n      <td>False</td>\n      <td>False</td>\n      <td>False</td>\n      <td>False</td>\n      <td>False</td>\n      <td>False</td>\n      <td>False</td>\n      <td>False</td>\n      <td>False</td>\n      <td>False</td>\n      <td>True</td>\n      <td>False</td>\n      <td>False</td>\n      <td>False</td>\n      <td>False</td>\n      <td>True</td>\n      <td>True</td>\n      <td>False</td>\n      <td>False</td>\n      <td>False</td>\n      <td>False</td>\n      <td>False</td>\n      <td>False</td>\n      <td>False</td>\n      <td>False</td>\n      <td>False</td>\n      <td>False</td>\n      <td>False</td>\n      <td>False</td>\n      <td>False</td>\n      <td>False</td>\n      <td>False</td>\n      <td>False</td>\n      <td>False</td>\n      <td>False</td>\n      <td>False</td>\n      <td>False</td>\n      <td>False</td>\n      <td>False</td>\n      <td>False</td>\n      <td>False</td>\n      <td>False</td>\n      <td>False</td>\n      <td>False</td>\n      <td>False</td>\n      <td>False</td>\n      <td>False</td>\n      <td>False</td>\n      <td>False</td>\n      <td>False</td>\n      <td>False</td>\n      <td>False</td>\n      <td>False</td>\n      <td>False</td>\n      <td>False</td>\n      <td>False</td>\n      <td>False</td>\n      <td>False</td>\n      <td>False</td>\n      <td>False</td>\n      <td>False</td>\n      <td>False</td>\n      <td>False</td>\n      <td>False</td>\n      <td>False</td>\n      <td>False</td>\n      <td>False</td>\n      <td>False</td>\n      <td>False</td>\n      <td>False</td>\n      <td>False</td>\n      <td>False</td>\n      <td>False</td>\n      <td>False</td>\n      <td>False</td>\n      <td>False</td>\n      <td>False</td>\n      <td>False</td>\n      <td>False</td>\n      <td>False</td>\n      <td>False</td>\n      <td>False</td>\n      <td>False</td>\n      <td>False</td>\n      <td>False</td>\n      <td>False</td>\n      <td>False</td>\n      <td>False</td>\n      <td>False</td>\n      <td>False</td>\n      <td>False</td>\n      <td>False</td>\n      <td>False</td>\n      <td>False</td>\n      <td>False</td>\n      <td>False</td>\n      <td>False</td>\n      <td>False</td>\n      <td>False</td>\n      <td>False</td>\n      <td>False</td>\n      <td>False</td>\n      <td>False</td>\n      <td>False</td>\n      <td>False</td>\n      <td>False</td>\n      <td>False</td>\n      <td>False</td>\n      <td>False</td>\n      <td>False</td>\n      <td>False</td>\n      <td>False</td>\n      <td>True</td>\n      <td>False</td>\n      <td>False</td>\n      <td>False</td>\n      <td>False</td>\n      <td>False</td>\n      <td>False</td>\n      <td>False</td>\n      <td>False</td>\n      <td>False</td>\n      <td>False</td>\n      <td>False</td>\n      <td>False</td>\n      <td>False</td>\n      <td>False</td>\n      <td>False</td>\n      <td>False</td>\n      <td>False</td>\n      <td>False</td>\n      <td>False</td>\n      <td>False</td>\n      <td>False</td>\n      <td>False</td>\n      <td>False</td>\n      <td>False</td>\n      <td>False</td>\n      <td>False</td>\n      <td>False</td>\n      <td>False</td>\n      <td>False</td>\n      <td>False</td>\n      <td>False</td>\n      <td>False</td>\n      <td>False</td>\n      <td>False</td>\n      <td>False</td>\n      <td>False</td>\n      <td>False</td>\n      <td>False</td>\n      <td>False</td>\n      <td>False</td>\n      <td>False</td>\n      <td>False</td>\n      <td>False</td>\n      <td>False</td>\n      <td>False</td>\n      <td>False</td>\n      <td>False</td>\n      <td>False</td>\n      <td>False</td>\n      <td>False</td>\n      <td>False</td>\n      <td>False</td>\n      <td>False</td>\n      <td>False</td>\n      <td>False</td>\n      <td>False</td>\n      <td>False</td>\n      <td>False</td>\n      <td>False</td>\n      <td>False</td>\n      <td>False</td>\n      <td>False</td>\n      <td>False</td>\n      <td>False</td>\n      <td>False</td>\n      <td>False</td>\n      <td>False</td>\n      <td>False</td>\n      <td>False</td>\n      <td>False</td>\n      <td>False</td>\n      <td>False</td>\n      <td>False</td>\n      <td>False</td>\n      <td>False</td>\n      <td>False</td>\n      <td>False</td>\n      <td>False</td>\n      <td>False</td>\n      <td>False</td>\n      <td>False</td>\n      <td>False</td>\n      <td>False</td>\n      <td>False</td>\n      <td>False</td>\n      <td>False</td>\n      <td>False</td>\n      <td>False</td>\n      <td>False</td>\n      <td>False</td>\n      <td>False</td>\n      <td>False</td>\n      <td>False</td>\n      <td>False</td>\n      <td>False</td>\n      <td>False</td>\n      <td>False</td>\n      <td>False</td>\n      <td>False</td>\n      <td>False</td>\n      <td>False</td>\n      <td>False</td>\n      <td>False</td>\n      <td>False</td>\n      <td>False</td>\n      <td>False</td>\n      <td>False</td>\n      <td>False</td>\n      <td>False</td>\n      <td>False</td>\n      <td>False</td>\n      <td>False</td>\n      <td>False</td>\n      <td>False</td>\n      <td>False</td>\n      <td>False</td>\n      <td>False</td>\n      <td>False</td>\n      <td>False</td>\n      <td>False</td>\n      <td>False</td>\n      <td>False</td>\n      <td>False</td>\n      <td>False</td>\n      <td>False</td>\n      <td>False</td>\n      <td>False</td>\n      <td>False</td>\n      <td>False</td>\n      <td>False</td>\n      <td>False</td>\n      <td>False</td>\n      <td>False</td>\n      <td>False</td>\n      <td>False</td>\n      <td>False</td>\n      <td>False</td>\n      <td>False</td>\n      <td>False</td>\n      <td>False</td>\n      <td>False</td>\n      <td>False</td>\n      <td>False</td>\n      <td>False</td>\n      <td>False</td>\n      <td>False</td>\n      <td>False</td>\n      <td>False</td>\n      <td>False</td>\n      <td>False</td>\n      <td>False</td>\n      <td>False</td>\n      <td>False</td>\n      <td>False</td>\n      <td>False</td>\n      <td>False</td>\n      <td>False</td>\n      <td>False</td>\n      <td>False</td>\n      <td>False</td>\n      <td>False</td>\n      <td>False</td>\n      <td>False</td>\n      <td>False</td>\n      <td>False</td>\n      <td>False</td>\n      <td>False</td>\n      <td>False</td>\n      <td>False</td>\n      <td>False</td>\n      <td>False</td>\n      <td>False</td>\n      <td>False</td>\n      <td>False</td>\n      <td>False</td>\n      <td>False</td>\n      <td>False</td>\n      <td>False</td>\n      <td>False</td>\n      <td>False</td>\n      <td>False</td>\n      <td>False</td>\n      <td>False</td>\n      <td>False</td>\n      <td>False</td>\n      <td>False</td>\n      <td>False</td>\n      <td>False</td>\n      <td>False</td>\n      <td>False</td>\n      <td>False</td>\n      <td>False</td>\n      <td>False</td>\n      <td>False</td>\n      <td>False</td>\n      <td>False</td>\n      <td>False</td>\n      <td>False</td>\n      <td>False</td>\n      <td>False</td>\n      <td>False</td>\n      <td>False</td>\n      <td>False</td>\n      <td>False</td>\n      <td>True</td>\n      <td>False</td>\n      <td>False</td>\n      <td>False</td>\n      <td>False</td>\n      <td>False</td>\n      <td>False</td>\n      <td>False</td>\n      <td>False</td>\n      <td>False</td>\n      <td>False</td>\n      <td>False</td>\n      <td>False</td>\n      <td>False</td>\n      <td>False</td>\n      <td>False</td>\n      <td>False</td>\n      <td>False</td>\n      <td>False</td>\n      <td>False</td>\n      <td>False</td>\n      <td>False</td>\n      <td>False</td>\n      <td>False</td>\n      <td>False</td>\n      <td>False</td>\n      <td>False</td>\n      <td>False</td>\n      <td>False</td>\n      <td>False</td>\n      <td>False</td>\n      <td>False</td>\n      <td>False</td>\n      <td>False</td>\n      <td>False</td>\n      <td>False</td>\n      <td>False</td>\n      <td>False</td>\n      <td>False</td>\n      <td>False</td>\n      <td>False</td>\n      <td>False</td>\n      <td>False</td>\n      <td>False</td>\n      <td>False</td>\n      <td>False</td>\n      <td>False</td>\n      <td>False</td>\n      <td>False</td>\n      <td>False</td>\n      <td>False</td>\n      <td>False</td>\n      <td>False</td>\n      <td>False</td>\n      <td>False</td>\n    </tr>\n    <tr>\n      <th>4</th>\n      <td>False</td>\n      <td>False</td>\n      <td>False</td>\n      <td>False</td>\n      <td>False</td>\n      <td>False</td>\n      <td>False</td>\n      <td>False</td>\n      <td>False</td>\n      <td>False</td>\n      <td>False</td>\n      <td>False</td>\n      <td>False</td>\n      <td>False</td>\n      <td>False</td>\n      <td>False</td>\n      <td>False</td>\n      <td>False</td>\n      <td>False</td>\n      <td>False</td>\n      <td>False</td>\n      <td>False</td>\n      <td>False</td>\n      <td>False</td>\n      <td>False</td>\n      <td>False</td>\n      <td>False</td>\n      <td>False</td>\n      <td>False</td>\n      <td>False</td>\n      <td>False</td>\n      <td>False</td>\n      <td>False</td>\n      <td>False</td>\n      <td>False</td>\n      <td>False</td>\n      <td>False</td>\n      <td>False</td>\n      <td>False</td>\n      <td>False</td>\n      <td>False</td>\n      <td>False</td>\n      <td>False</td>\n      <td>False</td>\n      <td>False</td>\n      <td>False</td>\n      <td>False</td>\n      <td>False</td>\n      <td>False</td>\n      <td>False</td>\n      <td>False</td>\n      <td>False</td>\n      <td>False</td>\n      <td>False</td>\n      <td>False</td>\n      <td>False</td>\n      <td>False</td>\n      <td>False</td>\n      <td>False</td>\n      <td>False</td>\n      <td>False</td>\n      <td>False</td>\n      <td>False</td>\n      <td>False</td>\n      <td>False</td>\n      <td>False</td>\n      <td>False</td>\n      <td>False</td>\n      <td>False</td>\n      <td>False</td>\n      <td>False</td>\n      <td>False</td>\n      <td>False</td>\n      <td>False</td>\n      <td>False</td>\n      <td>False</td>\n      <td>False</td>\n      <td>False</td>\n      <td>False</td>\n      <td>False</td>\n      <td>False</td>\n      <td>False</td>\n      <td>False</td>\n      <td>False</td>\n      <td>False</td>\n      <td>False</td>\n      <td>False</td>\n      <td>False</td>\n      <td>False</td>\n      <td>False</td>\n      <td>False</td>\n      <td>False</td>\n      <td>False</td>\n      <td>False</td>\n      <td>False</td>\n      <td>False</td>\n      <td>False</td>\n      <td>False</td>\n      <td>False</td>\n      <td>False</td>\n      <td>False</td>\n      <td>False</td>\n      <td>False</td>\n      <td>False</td>\n      <td>False</td>\n      <td>False</td>\n      <td>False</td>\n      <td>False</td>\n      <td>False</td>\n      <td>False</td>\n      <td>False</td>\n      <td>False</td>\n      <td>False</td>\n      <td>False</td>\n      <td>False</td>\n      <td>False</td>\n      <td>False</td>\n      <td>False</td>\n      <td>False</td>\n      <td>False</td>\n      <td>False</td>\n      <td>False</td>\n      <td>False</td>\n      <td>False</td>\n      <td>False</td>\n      <td>False</td>\n      <td>False</td>\n      <td>False</td>\n      <td>False</td>\n      <td>False</td>\n      <td>False</td>\n      <td>False</td>\n      <td>False</td>\n      <td>False</td>\n      <td>False</td>\n      <td>False</td>\n      <td>False</td>\n      <td>False</td>\n      <td>False</td>\n      <td>False</td>\n      <td>False</td>\n      <td>False</td>\n      <td>False</td>\n      <td>False</td>\n      <td>False</td>\n      <td>False</td>\n      <td>False</td>\n      <td>False</td>\n      <td>False</td>\n      <td>False</td>\n      <td>False</td>\n      <td>False</td>\n      <td>False</td>\n      <td>False</td>\n      <td>False</td>\n      <td>False</td>\n      <td>False</td>\n      <td>False</td>\n      <td>False</td>\n      <td>False</td>\n      <td>False</td>\n      <td>False</td>\n      <td>False</td>\n      <td>False</td>\n      <td>False</td>\n      <td>False</td>\n      <td>False</td>\n      <td>False</td>\n      <td>False</td>\n      <td>False</td>\n      <td>False</td>\n      <td>False</td>\n      <td>False</td>\n      <td>False</td>\n      <td>False</td>\n      <td>False</td>\n      <td>False</td>\n      <td>False</td>\n      <td>False</td>\n      <td>False</td>\n      <td>False</td>\n      <td>False</td>\n      <td>False</td>\n      <td>False</td>\n      <td>False</td>\n      <td>False</td>\n      <td>False</td>\n      <td>False</td>\n      <td>False</td>\n      <td>False</td>\n      <td>False</td>\n      <td>False</td>\n      <td>False</td>\n      <td>False</td>\n      <td>False</td>\n      <td>False</td>\n      <td>False</td>\n      <td>False</td>\n      <td>False</td>\n      <td>False</td>\n      <td>False</td>\n      <td>False</td>\n      <td>False</td>\n      <td>False</td>\n      <td>False</td>\n      <td>False</td>\n      <td>False</td>\n      <td>False</td>\n      <td>False</td>\n      <td>False</td>\n      <td>False</td>\n      <td>False</td>\n      <td>False</td>\n      <td>False</td>\n      <td>False</td>\n      <td>False</td>\n      <td>False</td>\n      <td>False</td>\n      <td>False</td>\n      <td>False</td>\n      <td>False</td>\n      <td>False</td>\n      <td>False</td>\n      <td>False</td>\n      <td>False</td>\n      <td>False</td>\n      <td>False</td>\n      <td>False</td>\n      <td>False</td>\n      <td>False</td>\n      <td>False</td>\n      <td>False</td>\n      <td>False</td>\n      <td>False</td>\n      <td>False</td>\n      <td>False</td>\n      <td>False</td>\n      <td>False</td>\n      <td>False</td>\n      <td>False</td>\n      <td>False</td>\n      <td>False</td>\n      <td>False</td>\n      <td>False</td>\n      <td>False</td>\n      <td>False</td>\n      <td>False</td>\n      <td>False</td>\n      <td>False</td>\n      <td>False</td>\n      <td>False</td>\n      <td>False</td>\n      <td>False</td>\n      <td>False</td>\n      <td>False</td>\n      <td>False</td>\n      <td>False</td>\n      <td>False</td>\n      <td>False</td>\n      <td>False</td>\n      <td>False</td>\n      <td>False</td>\n      <td>False</td>\n      <td>False</td>\n      <td>False</td>\n      <td>False</td>\n      <td>False</td>\n      <td>False</td>\n      <td>False</td>\n      <td>False</td>\n      <td>False</td>\n      <td>False</td>\n      <td>False</td>\n      <td>False</td>\n      <td>False</td>\n      <td>False</td>\n      <td>False</td>\n      <td>False</td>\n      <td>False</td>\n      <td>False</td>\n      <td>False</td>\n      <td>False</td>\n      <td>False</td>\n      <td>False</td>\n      <td>False</td>\n      <td>False</td>\n      <td>False</td>\n      <td>False</td>\n      <td>False</td>\n      <td>False</td>\n      <td>False</td>\n      <td>False</td>\n      <td>False</td>\n      <td>False</td>\n      <td>False</td>\n      <td>False</td>\n      <td>False</td>\n      <td>False</td>\n      <td>False</td>\n      <td>False</td>\n      <td>False</td>\n      <td>False</td>\n      <td>False</td>\n      <td>False</td>\n      <td>False</td>\n      <td>False</td>\n      <td>False</td>\n      <td>False</td>\n      <td>False</td>\n      <td>False</td>\n      <td>False</td>\n      <td>False</td>\n      <td>False</td>\n      <td>False</td>\n      <td>False</td>\n      <td>False</td>\n      <td>False</td>\n      <td>False</td>\n      <td>False</td>\n      <td>False</td>\n      <td>False</td>\n      <td>False</td>\n      <td>False</td>\n      <td>False</td>\n      <td>False</td>\n      <td>False</td>\n      <td>False</td>\n      <td>False</td>\n      <td>False</td>\n      <td>False</td>\n      <td>False</td>\n      <td>False</td>\n      <td>False</td>\n      <td>False</td>\n      <td>False</td>\n      <td>False</td>\n      <td>False</td>\n      <td>False</td>\n      <td>False</td>\n      <td>False</td>\n      <td>False</td>\n      <td>False</td>\n      <td>False</td>\n      <td>False</td>\n      <td>False</td>\n      <td>False</td>\n      <td>False</td>\n      <td>False</td>\n      <td>False</td>\n      <td>False</td>\n      <td>False</td>\n      <td>False</td>\n      <td>False</td>\n      <td>False</td>\n      <td>False</td>\n      <td>False</td>\n      <td>False</td>\n      <td>False</td>\n      <td>False</td>\n      <td>False</td>\n      <td>False</td>\n      <td>False</td>\n      <td>False</td>\n      <td>False</td>\n      <td>False</td>\n      <td>False</td>\n      <td>False</td>\n      <td>False</td>\n      <td>False</td>\n      <td>False</td>\n      <td>False</td>\n      <td>False</td>\n      <td>False</td>\n      <td>False</td>\n      <td>False</td>\n      <td>False</td>\n      <td>False</td>\n      <td>False</td>\n      <td>False</td>\n      <td>False</td>\n      <td>False</td>\n      <td>False</td>\n      <td>False</td>\n      <td>False</td>\n      <td>False</td>\n      <td>False</td>\n      <td>False</td>\n      <td>False</td>\n      <td>False</td>\n      <td>False</td>\n      <td>False</td>\n      <td>False</td>\n      <td>False</td>\n      <td>False</td>\n      <td>False</td>\n      <td>False</td>\n      <td>False</td>\n      <td>False</td>\n      <td>False</td>\n      <td>False</td>\n      <td>False</td>\n      <td>False</td>\n      <td>False</td>\n      <td>False</td>\n      <td>False</td>\n      <td>False</td>\n      <td>False</td>\n      <td>False</td>\n      <td>False</td>\n      <td>False</td>\n      <td>False</td>\n      <td>False</td>\n      <td>False</td>\n      <td>False</td>\n      <td>False</td>\n      <td>False</td>\n      <td>False</td>\n      <td>False</td>\n      <td>False</td>\n      <td>False</td>\n      <td>False</td>\n      <td>False</td>\n      <td>False</td>\n      <td>False</td>\n      <td>False</td>\n      <td>False</td>\n      <td>False</td>\n      <td>False</td>\n      <td>False</td>\n      <td>False</td>\n      <td>False</td>\n      <td>False</td>\n      <td>False</td>\n      <td>False</td>\n      <td>False</td>\n      <td>False</td>\n      <td>False</td>\n      <td>False</td>\n      <td>False</td>\n      <td>False</td>\n      <td>False</td>\n      <td>False</td>\n      <td>True</td>\n      <td>False</td>\n      <td>False</td>\n      <td>False</td>\n      <td>False</td>\n      <td>False</td>\n      <td>False</td>\n      <td>False</td>\n      <td>False</td>\n      <td>False</td>\n      <td>False</td>\n      <td>False</td>\n      <td>False</td>\n      <td>False</td>\n      <td>False</td>\n      <td>False</td>\n      <td>False</td>\n      <td>False</td>\n      <td>False</td>\n      <td>False</td>\n      <td>False</td>\n      <td>False</td>\n      <td>False</td>\n      <td>False</td>\n      <td>False</td>\n      <td>False</td>\n      <td>False</td>\n      <td>False</td>\n      <td>False</td>\n      <td>False</td>\n      <td>False</td>\n      <td>False</td>\n      <td>False</td>\n      <td>False</td>\n      <td>False</td>\n      <td>False</td>\n      <td>False</td>\n      <td>False</td>\n      <td>False</td>\n      <td>False</td>\n      <td>False</td>\n      <td>False</td>\n      <td>False</td>\n      <td>False</td>\n      <td>False</td>\n      <td>False</td>\n      <td>False</td>\n      <td>False</td>\n      <td>False</td>\n      <td>False</td>\n      <td>False</td>\n      <td>False</td>\n      <td>False</td>\n      <td>False</td>\n      <td>False</td>\n      <td>False</td>\n      <td>False</td>\n      <td>False</td>\n      <td>False</td>\n      <td>False</td>\n      <td>False</td>\n      <td>False</td>\n      <td>False</td>\n      <td>False</td>\n      <td>False</td>\n      <td>False</td>\n      <td>False</td>\n      <td>False</td>\n      <td>False</td>\n      <td>False</td>\n      <td>False</td>\n      <td>False</td>\n      <td>False</td>\n      <td>False</td>\n      <td>False</td>\n      <td>False</td>\n      <td>False</td>\n      <td>False</td>\n      <td>False</td>\n      <td>False</td>\n      <td>False</td>\n      <td>False</td>\n      <td>False</td>\n      <td>False</td>\n      <td>False</td>\n      <td>False</td>\n      <td>False</td>\n      <td>False</td>\n      <td>False</td>\n      <td>False</td>\n      <td>False</td>\n      <td>False</td>\n      <td>False</td>\n      <td>False</td>\n      <td>False</td>\n      <td>False</td>\n      <td>False</td>\n      <td>False</td>\n      <td>False</td>\n      <td>False</td>\n      <td>False</td>\n      <td>False</td>\n      <td>False</td>\n      <td>False</td>\n      <td>False</td>\n      <td>False</td>\n      <td>False</td>\n      <td>False</td>\n      <td>False</td>\n      <td>False</td>\n      <td>False</td>\n      <td>False</td>\n      <td>False</td>\n      <td>False</td>\n      <td>False</td>\n      <td>False</td>\n      <td>False</td>\n      <td>False</td>\n      <td>False</td>\n      <td>False</td>\n      <td>False</td>\n      <td>False</td>\n      <td>False</td>\n      <td>False</td>\n      <td>False</td>\n      <td>False</td>\n      <td>False</td>\n      <td>False</td>\n      <td>False</td>\n      <td>False</td>\n      <td>False</td>\n      <td>False</td>\n      <td>False</td>\n      <td>False</td>\n      <td>False</td>\n      <td>False</td>\n      <td>False</td>\n      <td>False</td>\n      <td>False</td>\n      <td>False</td>\n      <td>False</td>\n      <td>False</td>\n      <td>False</td>\n      <td>False</td>\n      <td>False</td>\n      <td>False</td>\n      <td>False</td>\n      <td>False</td>\n      <td>False</td>\n      <td>False</td>\n      <td>False</td>\n      <td>False</td>\n      <td>False</td>\n      <td>False</td>\n      <td>False</td>\n      <td>False</td>\n      <td>False</td>\n      <td>False</td>\n      <td>False</td>\n      <td>False</td>\n      <td>False</td>\n      <td>False</td>\n      <td>False</td>\n      <td>False</td>\n      <td>False</td>\n      <td>False</td>\n      <td>False</td>\n      <td>False</td>\n      <td>False</td>\n      <td>False</td>\n      <td>False</td>\n      <td>False</td>\n      <td>False</td>\n      <td>False</td>\n      <td>False</td>\n      <td>False</td>\n      <td>False</td>\n      <td>False</td>\n      <td>False</td>\n      <td>False</td>\n      <td>False</td>\n      <td>False</td>\n      <td>False</td>\n      <td>False</td>\n      <td>False</td>\n      <td>False</td>\n      <td>False</td>\n      <td>False</td>\n      <td>False</td>\n      <td>False</td>\n      <td>False</td>\n      <td>False</td>\n      <td>False</td>\n      <td>False</td>\n      <td>False</td>\n      <td>False</td>\n      <td>False</td>\n      <td>False</td>\n      <td>False</td>\n      <td>False</td>\n      <td>False</td>\n      <td>False</td>\n      <td>False</td>\n      <td>False</td>\n      <td>False</td>\n      <td>False</td>\n      <td>False</td>\n      <td>False</td>\n      <td>False</td>\n      <td>False</td>\n      <td>False</td>\n      <td>False</td>\n      <td>False</td>\n      <td>False</td>\n      <td>False</td>\n      <td>False</td>\n      <td>False</td>\n      <td>False</td>\n      <td>False</td>\n      <td>False</td>\n      <td>False</td>\n      <td>False</td>\n      <td>False</td>\n      <td>False</td>\n      <td>False</td>\n      <td>False</td>\n      <td>False</td>\n      <td>False</td>\n      <td>False</td>\n      <td>False</td>\n      <td>False</td>\n      <td>False</td>\n      <td>False</td>\n      <td>False</td>\n      <td>False</td>\n    </tr>\n  </tbody>\n</table>\n</div>"
     },
     "metadata": {},
     "execution_count": 19
    }
   ],
   "source": [
    "basket_df.head()"
   ]
  },
  {
   "source": [
    "# support値\n",
    "購入確率を求める。商品の組み合わせが多いため、確率が一定以上のものに限定する。\n",
    "- `min_suport`で指定する"
   ],
   "cell_type": "markdown",
   "metadata": {}
  },
  {
   "cell_type": "code",
   "execution_count": 20,
   "metadata": {},
   "outputs": [
    {
     "output_type": "execute_result",
     "data": {
      "text/plain": [
       "     support itemsets\n",
       "92  0.223623    (724)\n",
       "51  0.214051    (509)\n",
       "5   0.185729    (114)\n",
       "35  0.171469    (370)\n",
       "9   0.160179    (143)"
      ],
      "text/html": "<div>\n<style scoped>\n    .dataframe tbody tr th:only-of-type {\n        vertical-align: middle;\n    }\n\n    .dataframe tbody tr th {\n        vertical-align: top;\n    }\n\n    .dataframe thead th {\n        text-align: right;\n    }\n</style>\n<table border=\"1\" class=\"dataframe\">\n  <thead>\n    <tr style=\"text-align: right;\">\n      <th></th>\n      <th>support</th>\n      <th>itemsets</th>\n    </tr>\n  </thead>\n  <tbody>\n    <tr>\n      <th>92</th>\n      <td>0.223623</td>\n      <td>(724)</td>\n    </tr>\n    <tr>\n      <th>51</th>\n      <td>0.214051</td>\n      <td>(509)</td>\n    </tr>\n    <tr>\n      <th>5</th>\n      <td>0.185729</td>\n      <td>(114)</td>\n    </tr>\n    <tr>\n      <th>35</th>\n      <td>0.171469</td>\n      <td>(370)</td>\n    </tr>\n    <tr>\n      <th>9</th>\n      <td>0.160179</td>\n      <td>(143)</td>\n    </tr>\n  </tbody>\n</table>\n</div>"
     },
     "metadata": {},
     "execution_count": 20
    }
   ],
   "source": [
    "freq_items1 = apriori(basket_df, min_support=0.03, use_colnames=True)\n",
    "freq_items1.sort_values(\"support\", ascending=False).head()"
   ]
  },
  {
   "source": [
    "idでなくカテゴリ名で表示できるよう、ゴニョゴニョと・・"
   ],
   "cell_type": "markdown",
   "metadata": {}
  },
  {
   "cell_type": "code",
   "execution_count": 46,
   "metadata": {},
   "outputs": [],
   "source": [
    "# id だけを取り出せるよう str.extract 関数を仕様\n",
    "freq_items1[\"item_id\"] = freq_items1[\"itemsets\"].astype(str).str.extract('frozenset\\({(.+)}\\)', expand=False)"
   ]
  },
  {
   "cell_type": "code",
   "execution_count": 73,
   "metadata": {},
   "outputs": [],
   "source": [
    "# 複数紐づいているものは、別カラムにする\n",
    "tmp = freq_items1[\"item_id\"].str.split(\", \", expand=True)\n",
    "tmp.rename(columns={0: 'id_1', 1: 'id_2', 2:'id_3'}, inplace=True)"
   ]
  },
  {
   "cell_type": "code",
   "execution_count": 74,
   "metadata": {},
   "outputs": [
    {
     "output_type": "execute_result",
     "data": {
      "text/plain": [
       "  id_1  id_2  id_3\n",
       "0   38  None  None\n",
       "1   40  None  None\n",
       "2   50  None  None\n",
       "3  111  None  None\n",
       "4  113  None  None"
      ],
      "text/html": "<div>\n<style scoped>\n    .dataframe tbody tr th:only-of-type {\n        vertical-align: middle;\n    }\n\n    .dataframe tbody tr th {\n        vertical-align: top;\n    }\n\n    .dataframe thead th {\n        text-align: right;\n    }\n</style>\n<table border=\"1\" class=\"dataframe\">\n  <thead>\n    <tr style=\"text-align: right;\">\n      <th></th>\n      <th>id_1</th>\n      <th>id_2</th>\n      <th>id_3</th>\n    </tr>\n  </thead>\n  <tbody>\n    <tr>\n      <th>0</th>\n      <td>38</td>\n      <td>None</td>\n      <td>None</td>\n    </tr>\n    <tr>\n      <th>1</th>\n      <td>40</td>\n      <td>None</td>\n      <td>None</td>\n    </tr>\n    <tr>\n      <th>2</th>\n      <td>50</td>\n      <td>None</td>\n      <td>None</td>\n    </tr>\n    <tr>\n      <th>3</th>\n      <td>111</td>\n      <td>None</td>\n      <td>None</td>\n    </tr>\n    <tr>\n      <th>4</th>\n      <td>113</td>\n      <td>None</td>\n      <td>None</td>\n    </tr>\n  </tbody>\n</table>\n</div>"
     },
     "metadata": {},
     "execution_count": 74
    }
   ],
   "source": [
    "tmp.head()"
   ]
  },
  {
   "cell_type": "code",
   "execution_count": 75,
   "metadata": {},
   "outputs": [],
   "source": [
    "# id ⇒ category名\n",
    "tmp = tmp.applymap(lambda x: id2cat[int(x)] if x is not None else np.nan).rename(columns={0: 'name_1', 1: 'name_2', 2:'name_3'})\n",
    "\n",
    "freq_items1_ = pd.concat([freq_items1, tmp], axis=1)"
   ]
  },
  {
   "source": [
    "support は itemsets を購入する確率  \n",
    "例えば、support が一番大きい組み合わせは 野菜__きのこ類 - 野菜__葉茎菜類 である"
   ],
   "cell_type": "markdown",
   "metadata": {}
  },
  {
   "cell_type": "code",
   "execution_count": 79,
   "metadata": {},
   "outputs": [
    {
     "output_type": "execute_result",
     "data": {
      "text/plain": [
       "      support    itemsets   item_id      id_1         id_2 id_3\n",
       "199  0.078594  (716, 724)  716, 724  野菜__きのこ類     野菜__葉茎菜類  NaN\n",
       "170  0.074662  (370, 724)  370, 724   和日配__豆腐     野菜__葉茎菜類  NaN\n",
       "180  0.073188  (724, 509)  724, 509  野菜__葉茎菜類     日配飲料__牛乳  NaN\n",
       "204  0.068862  (720, 724)  720, 724   野菜__土物類     野菜__葉茎菜類  NaN\n",
       "190  0.066867  (587, 724)  587, 724    玉子__玉子     野菜__葉茎菜類  NaN\n",
       "205  0.066170  (722, 724)  722, 724   野菜__果菜類     野菜__葉茎菜類  NaN\n",
       "124  0.061727  (509, 143)  509, 143  日配飲料__牛乳  デザート__ヨーグルト  NaN\n",
       "174  0.061528  (587, 509)  587, 509    玉子__玉子     日配飲料__牛乳  NaN\n",
       "162  0.058535  (370, 509)  370, 509   和日配__豆腐     日配飲料__牛乳  NaN\n",
       "152  0.057705  (368, 370)  368, 370   和日配__納豆      和日配__豆腐  NaN"
      ],
      "text/html": "<div>\n<style scoped>\n    .dataframe tbody tr th:only-of-type {\n        vertical-align: middle;\n    }\n\n    .dataframe tbody tr th {\n        vertical-align: top;\n    }\n\n    .dataframe thead th {\n        text-align: right;\n    }\n</style>\n<table border=\"1\" class=\"dataframe\">\n  <thead>\n    <tr style=\"text-align: right;\">\n      <th></th>\n      <th>support</th>\n      <th>itemsets</th>\n      <th>item_id</th>\n      <th>id_1</th>\n      <th>id_2</th>\n      <th>id_3</th>\n    </tr>\n  </thead>\n  <tbody>\n    <tr>\n      <th>199</th>\n      <td>0.078594</td>\n      <td>(716, 724)</td>\n      <td>716, 724</td>\n      <td>野菜__きのこ類</td>\n      <td>野菜__葉茎菜類</td>\n      <td>NaN</td>\n    </tr>\n    <tr>\n      <th>170</th>\n      <td>0.074662</td>\n      <td>(370, 724)</td>\n      <td>370, 724</td>\n      <td>和日配__豆腐</td>\n      <td>野菜__葉茎菜類</td>\n      <td>NaN</td>\n    </tr>\n    <tr>\n      <th>180</th>\n      <td>0.073188</td>\n      <td>(724, 509)</td>\n      <td>724, 509</td>\n      <td>野菜__葉茎菜類</td>\n      <td>日配飲料__牛乳</td>\n      <td>NaN</td>\n    </tr>\n    <tr>\n      <th>204</th>\n      <td>0.068862</td>\n      <td>(720, 724)</td>\n      <td>720, 724</td>\n      <td>野菜__土物類</td>\n      <td>野菜__葉茎菜類</td>\n      <td>NaN</td>\n    </tr>\n    <tr>\n      <th>190</th>\n      <td>0.066867</td>\n      <td>(587, 724)</td>\n      <td>587, 724</td>\n      <td>玉子__玉子</td>\n      <td>野菜__葉茎菜類</td>\n      <td>NaN</td>\n    </tr>\n    <tr>\n      <th>205</th>\n      <td>0.066170</td>\n      <td>(722, 724)</td>\n      <td>722, 724</td>\n      <td>野菜__果菜類</td>\n      <td>野菜__葉茎菜類</td>\n      <td>NaN</td>\n    </tr>\n    <tr>\n      <th>124</th>\n      <td>0.061727</td>\n      <td>(509, 143)</td>\n      <td>509, 143</td>\n      <td>日配飲料__牛乳</td>\n      <td>デザート__ヨーグルト</td>\n      <td>NaN</td>\n    </tr>\n    <tr>\n      <th>174</th>\n      <td>0.061528</td>\n      <td>(587, 509)</td>\n      <td>587, 509</td>\n      <td>玉子__玉子</td>\n      <td>日配飲料__牛乳</td>\n      <td>NaN</td>\n    </tr>\n    <tr>\n      <th>162</th>\n      <td>0.058535</td>\n      <td>(370, 509)</td>\n      <td>370, 509</td>\n      <td>和日配__豆腐</td>\n      <td>日配飲料__牛乳</td>\n      <td>NaN</td>\n    </tr>\n    <tr>\n      <th>152</th>\n      <td>0.057705</td>\n      <td>(368, 370)</td>\n      <td>368, 370</td>\n      <td>和日配__納豆</td>\n      <td>和日配__豆腐</td>\n      <td>NaN</td>\n    </tr>\n  </tbody>\n</table>\n</div>"
     },
     "metadata": {},
     "execution_count": 79
    }
   ],
   "source": [
    "freq_items1_[~freq_items1_[\"id_2\"].isnull()].sort_values('support', ascending = False).head(10)"
   ]
  },
  {
   "source": [
    "# Lift値\n",
    "同時購入の傾向の強さ（単独購入と比べて、合わせ買いの傾向がどれだけ強いか）"
   ],
   "cell_type": "markdown",
   "metadata": {}
  },
  {
   "cell_type": "code",
   "execution_count": 80,
   "metadata": {},
   "outputs": [
    {
     "output_type": "execute_result",
     "data": {
      "text/plain": [
       "  antecedents consequents  antecedent support  consequent support   support  \\\n",
       "0  (370, 724)       (716)            0.074662            0.133803  0.034925   \n",
       "1       (716)  (370, 724)            0.133803            0.074662  0.034925   \n",
       "2       (723)       (720)            0.081168            0.137080  0.038689   \n",
       "3       (720)       (723)            0.137080            0.081168  0.038689   \n",
       "4       (722)       (718)            0.125126            0.077638  0.030318   \n",
       "\n",
       "   confidence      lift  leverage  conviction  \n",
       "0    0.467778  3.496030  0.024935    1.627510  \n",
       "1    0.261021  3.496030  0.024935    1.252185  \n",
       "2    0.476649  3.477150  0.027562    1.648835  \n",
       "3    0.282233  3.477150  0.027562    1.280125  \n",
       "4    0.242297  3.120872  0.020603    1.217314  "
      ],
      "text/html": "<div>\n<style scoped>\n    .dataframe tbody tr th:only-of-type {\n        vertical-align: middle;\n    }\n\n    .dataframe tbody tr th {\n        vertical-align: top;\n    }\n\n    .dataframe thead th {\n        text-align: right;\n    }\n</style>\n<table border=\"1\" class=\"dataframe\">\n  <thead>\n    <tr style=\"text-align: right;\">\n      <th></th>\n      <th>antecedents</th>\n      <th>consequents</th>\n      <th>antecedent support</th>\n      <th>consequent support</th>\n      <th>support</th>\n      <th>confidence</th>\n      <th>lift</th>\n      <th>leverage</th>\n      <th>conviction</th>\n    </tr>\n  </thead>\n  <tbody>\n    <tr>\n      <th>0</th>\n      <td>(370, 724)</td>\n      <td>(716)</td>\n      <td>0.074662</td>\n      <td>0.133803</td>\n      <td>0.034925</td>\n      <td>0.467778</td>\n      <td>3.496030</td>\n      <td>0.024935</td>\n      <td>1.627510</td>\n    </tr>\n    <tr>\n      <th>1</th>\n      <td>(716)</td>\n      <td>(370, 724)</td>\n      <td>0.133803</td>\n      <td>0.074662</td>\n      <td>0.034925</td>\n      <td>0.261021</td>\n      <td>3.496030</td>\n      <td>0.024935</td>\n      <td>1.252185</td>\n    </tr>\n    <tr>\n      <th>2</th>\n      <td>(723)</td>\n      <td>(720)</td>\n      <td>0.081168</td>\n      <td>0.137080</td>\n      <td>0.038689</td>\n      <td>0.476649</td>\n      <td>3.477150</td>\n      <td>0.027562</td>\n      <td>1.648835</td>\n    </tr>\n    <tr>\n      <th>3</th>\n      <td>(720)</td>\n      <td>(723)</td>\n      <td>0.137080</td>\n      <td>0.081168</td>\n      <td>0.038689</td>\n      <td>0.282233</td>\n      <td>3.477150</td>\n      <td>0.027562</td>\n      <td>1.280125</td>\n    </tr>\n    <tr>\n      <th>4</th>\n      <td>(722)</td>\n      <td>(718)</td>\n      <td>0.125126</td>\n      <td>0.077638</td>\n      <td>0.030318</td>\n      <td>0.242297</td>\n      <td>3.120872</td>\n      <td>0.020603</td>\n      <td>1.217314</td>\n    </tr>\n  </tbody>\n</table>\n</div>"
     },
     "metadata": {},
     "execution_count": 80
    }
   ],
   "source": [
    "# アソシエーションルールの抽出\n",
    "a_rules1 = association_rules(freq_items1,metric=\"lift\", min_threshold=1)\n",
    "\n",
    "# リフト値でsort\n",
    "a_rules1 = a_rules1.sort_values(\"lift\", ascending=False).reset_index(drop=True)\n",
    "\n",
    "a_rules1.head()"
   ]
  },
  {
   "source": [
    "- antecedent support は antecedents が購入される確率  𝑃(antecedent) 。\n",
    "- consequents support は consequents が購入される確率  𝑃(consequents) 。\n",
    "- support は antecedent と consequents が同時に購入される確率  𝑃(antecedent,consequents) 。\n",
    "- confidence は antecedent が購入された中で consequents が購入される確率  𝑃(antecedent,consequents)/𝑃(antecedent) 。\n",
    "- lift は antecedent が購入された中で consequents が購入される確率とconsequentsが購入される確率の比  𝑃(antecedent,consequents)/(𝑃(antecedent)∗𝑃(consequents)) "
   ],
   "cell_type": "markdown",
   "metadata": {}
  },
  {
   "cell_type": "code",
   "execution_count": 89,
   "metadata": {},
   "outputs": [],
   "source": [
    "# id だけを取り出せるよう str.extract 関数を仕様\n",
    "a_rules1[\"antecedents_id\"] = a_rules1[\"antecedents\"].astype(str).str.extract('frozenset\\({(.+)}\\)', expand=False)\n",
    "a_rules1[\"consequents_id\"] = a_rules1[\"consequents\"].astype(str).str.extract('frozenset\\({(.+)}\\)', expand=False)\n",
    "\n",
    "# 複数紐づいているものは、別カラムにする\n",
    "tmp_ante = a_rules1[\"antecedents_id\"].str.split(\", \", expand=True)\n",
    "tmp.rename(columns={0: 'antecedents_id_1', 1: 'antecedents_id_2'}, inplace=True)\n",
    "tmp_cons = a_rules1[\"consequents_id\"].str.split(\", \", expand=True)\n",
    "tmp.rename(columns={0: 'consequents_id_1', 1: 'consequents_id_2'}, inplace=True)\n",
    "\n",
    "tmp = pd.concat([tmp_ante, tmp_cons], axis=1)\n",
    "\n",
    "# id ⇒ category名\n",
    "tmp = tmp.applymap(lambda x: id2cat[int(x)] if x is not None else np.nan)\n",
    "tmp.columns = [\"antecedents_name_1\", \"antecedents_name_2\", \"consequents_name_1\", \"consequents_name_2\"]"
   ]
  },
  {
   "cell_type": "code",
   "execution_count": 92,
   "metadata": {},
   "outputs": [
    {
     "output_type": "execute_result",
     "data": {
      "text/plain": [
       "  antecedents_name_1 antecedents_name_2 consequents_name_1 consequents_name_2  \\\n",
       "0            和日配__豆腐           野菜__葉茎菜類           野菜__きのこ類                NaN   \n",
       "1           野菜__きのこ類                NaN            和日配__豆腐           野菜__葉茎菜類   \n",
       "2            野菜__根菜類                NaN            野菜__土物類                NaN   \n",
       "3            野菜__土物類                NaN            野菜__根菜類                NaN   \n",
       "4            野菜__果菜類                NaN            野菜__トマト                NaN   \n",
       "5            野菜__トマト                NaN            野菜__果菜類                NaN   \n",
       "6           野菜__葉茎菜類                NaN            和日配__豆腐           野菜__きのこ類   \n",
       "7            和日配__豆腐           野菜__きのこ類           野菜__葉茎菜類                NaN   \n",
       "8            野菜__根菜類                NaN           野菜__きのこ類                NaN   \n",
       "9           野菜__きのこ類                NaN            野菜__根菜類                NaN   \n",
       "\n",
       "       lift  \n",
       "0  3.496030  \n",
       "1  3.496030  \n",
       "2  3.477150  \n",
       "3  3.477150  \n",
       "4  3.120872  \n",
       "5  3.120872  \n",
       "6  3.058039  \n",
       "7  3.058039  \n",
       "8  2.821501  \n",
       "9  2.821501  "
      ],
      "text/html": "<div>\n<style scoped>\n    .dataframe tbody tr th:only-of-type {\n        vertical-align: middle;\n    }\n\n    .dataframe tbody tr th {\n        vertical-align: top;\n    }\n\n    .dataframe thead th {\n        text-align: right;\n    }\n</style>\n<table border=\"1\" class=\"dataframe\">\n  <thead>\n    <tr style=\"text-align: right;\">\n      <th></th>\n      <th>antecedents_name_1</th>\n      <th>antecedents_name_2</th>\n      <th>consequents_name_1</th>\n      <th>consequents_name_2</th>\n      <th>lift</th>\n    </tr>\n  </thead>\n  <tbody>\n    <tr>\n      <th>0</th>\n      <td>和日配__豆腐</td>\n      <td>野菜__葉茎菜類</td>\n      <td>野菜__きのこ類</td>\n      <td>NaN</td>\n      <td>3.496030</td>\n    </tr>\n    <tr>\n      <th>1</th>\n      <td>野菜__きのこ類</td>\n      <td>NaN</td>\n      <td>和日配__豆腐</td>\n      <td>野菜__葉茎菜類</td>\n      <td>3.496030</td>\n    </tr>\n    <tr>\n      <th>2</th>\n      <td>野菜__根菜類</td>\n      <td>NaN</td>\n      <td>野菜__土物類</td>\n      <td>NaN</td>\n      <td>3.477150</td>\n    </tr>\n    <tr>\n      <th>3</th>\n      <td>野菜__土物類</td>\n      <td>NaN</td>\n      <td>野菜__根菜類</td>\n      <td>NaN</td>\n      <td>3.477150</td>\n    </tr>\n    <tr>\n      <th>4</th>\n      <td>野菜__果菜類</td>\n      <td>NaN</td>\n      <td>野菜__トマト</td>\n      <td>NaN</td>\n      <td>3.120872</td>\n    </tr>\n    <tr>\n      <th>5</th>\n      <td>野菜__トマト</td>\n      <td>NaN</td>\n      <td>野菜__果菜類</td>\n      <td>NaN</td>\n      <td>3.120872</td>\n    </tr>\n    <tr>\n      <th>6</th>\n      <td>野菜__葉茎菜類</td>\n      <td>NaN</td>\n      <td>和日配__豆腐</td>\n      <td>野菜__きのこ類</td>\n      <td>3.058039</td>\n    </tr>\n    <tr>\n      <th>7</th>\n      <td>和日配__豆腐</td>\n      <td>野菜__きのこ類</td>\n      <td>野菜__葉茎菜類</td>\n      <td>NaN</td>\n      <td>3.058039</td>\n    </tr>\n    <tr>\n      <th>8</th>\n      <td>野菜__根菜類</td>\n      <td>NaN</td>\n      <td>野菜__きのこ類</td>\n      <td>NaN</td>\n      <td>2.821501</td>\n    </tr>\n    <tr>\n      <th>9</th>\n      <td>野菜__きのこ類</td>\n      <td>NaN</td>\n      <td>野菜__根菜類</td>\n      <td>NaN</td>\n      <td>2.821501</td>\n    </tr>\n  </tbody>\n</table>\n</div>"
     },
     "metadata": {},
     "execution_count": 92
    }
   ],
   "source": [
    "a_rules1_ = pd.concat([tmp, a_rules1[\"lift\"]], axis=1).sort_values(\"lift\", ascending=False).reset_index(drop=True)\n",
    "\n",
    "a_rules1_.head(10)"
   ]
  },
  {
   "source": [
    "おもしろい\n",
    "- スナック・キャンディー_スナックやチョコ・ビスクラ_チョコレートといった菓子は他の菓子、食料品と一緒に購入する傾向にある\n",
    "- 麺類_カップ麺とスナック・キャンディー_スナックは一緒に購入される傾向が強い。体に良くない。。。"
   ],
   "cell_type": "markdown",
   "metadata": {}
  },
  {
   "cell_type": "code",
   "execution_count": 98,
   "metadata": {},
   "outputs": [
    {
     "output_type": "execute_result",
     "data": {
      "text/plain": [
       "           antecedents_name_1 antecedents_name_2 consequents_name_1  \\\n",
       "17             チョコ・ビスクラ__ビスクラ                NaN   チョコ・ビスクラ__チョコレート   \n",
       "32          スナック・キャンディー__スナック                NaN            和菓子__米菓   \n",
       "33                    和菓子__米菓                NaN  スナック・キャンディー__スナック   \n",
       "42               チョコ・ビスクラ__子供                NaN  スナック・キャンディー__スナック   \n",
       "46           チョコ・ビスクラ__チョコレート                NaN  スナック・キャンディー__スナック   \n",
       "47          スナック・キャンディー__スナック                NaN   チョコ・ビスクラ__チョコレート   \n",
       "49             チョコ・ビスクラ__ビスクラ                NaN  スナック・キャンディー__スナック   \n",
       "170         スナック・キャンディー__スナック                NaN           麺類__カップ麺   \n",
       "171                  麺類__カップ麺                NaN  スナック・キャンディー__スナック   \n",
       "187               日配飲料__果汁・野菜                NaN  スナック・キャンディー__スナック   \n",
       "191  ホールセールパン__菓子パン(ホールセールパン)                NaN  スナック・キャンディー__スナック   \n",
       "194  ホールセールパン__食卓パン(ホールセールパン)                NaN  スナック・キャンディー__スナック   \n",
       "198   ホールセールパン__食パン(ホールセールパン)                NaN  スナック・キャンディー__スナック   \n",
       "201                  日配飲料__牛乳                NaN   チョコ・ビスクラ__チョコレート   \n",
       "202                    玉子__玉子                NaN  スナック・キャンディー__スナック   \n",
       "204                   和日配__納豆                NaN  スナック・キャンディー__スナック   \n",
       "208               デザート__ヨーグルト                NaN  スナック・キャンディー__スナック   \n",
       "210                  野菜__きのこ類                NaN  スナック・キャンディー__スナック   \n",
       "213                  日配飲料__牛乳                NaN  スナック・キャンディー__スナック   \n",
       "214                   野菜__土物類                NaN  スナック・キャンディー__スナック   \n",
       "\n",
       "    consequents_name_2      lift  \n",
       "17                 NaN  2.592324  \n",
       "32                 NaN  2.276159  \n",
       "33                 NaN  2.276159  \n",
       "42                 NaN  2.145927  \n",
       "46                 NaN  2.129839  \n",
       "47                 NaN  2.129839  \n",
       "49                 NaN  2.113212  \n",
       "170                NaN  1.541037  \n",
       "171                NaN  1.541037  \n",
       "187                NaN  1.363679  \n",
       "191                NaN  1.357403  \n",
       "194                NaN  1.343085  \n",
       "198                NaN  1.313340  \n",
       "201                NaN  1.302922  \n",
       "202                NaN  1.256739  \n",
       "204                NaN  1.255949  \n",
       "208                NaN  1.241186  \n",
       "210                NaN  1.233453  \n",
       "213                NaN  1.232356  \n",
       "214                NaN  1.217876  "
      ],
      "text/html": "<div>\n<style scoped>\n    .dataframe tbody tr th:only-of-type {\n        vertical-align: middle;\n    }\n\n    .dataframe tbody tr th {\n        vertical-align: top;\n    }\n\n    .dataframe thead th {\n        text-align: right;\n    }\n</style>\n<table border=\"1\" class=\"dataframe\">\n  <thead>\n    <tr style=\"text-align: right;\">\n      <th></th>\n      <th>antecedents_name_1</th>\n      <th>antecedents_name_2</th>\n      <th>consequents_name_1</th>\n      <th>consequents_name_2</th>\n      <th>lift</th>\n    </tr>\n  </thead>\n  <tbody>\n    <tr>\n      <th>17</th>\n      <td>チョコ・ビスクラ__ビスクラ</td>\n      <td>NaN</td>\n      <td>チョコ・ビスクラ__チョコレート</td>\n      <td>NaN</td>\n      <td>2.592324</td>\n    </tr>\n    <tr>\n      <th>32</th>\n      <td>スナック・キャンディー__スナック</td>\n      <td>NaN</td>\n      <td>和菓子__米菓</td>\n      <td>NaN</td>\n      <td>2.276159</td>\n    </tr>\n    <tr>\n      <th>33</th>\n      <td>和菓子__米菓</td>\n      <td>NaN</td>\n      <td>スナック・キャンディー__スナック</td>\n      <td>NaN</td>\n      <td>2.276159</td>\n    </tr>\n    <tr>\n      <th>42</th>\n      <td>チョコ・ビスクラ__子供</td>\n      <td>NaN</td>\n      <td>スナック・キャンディー__スナック</td>\n      <td>NaN</td>\n      <td>2.145927</td>\n    </tr>\n    <tr>\n      <th>46</th>\n      <td>チョコ・ビスクラ__チョコレート</td>\n      <td>NaN</td>\n      <td>スナック・キャンディー__スナック</td>\n      <td>NaN</td>\n      <td>2.129839</td>\n    </tr>\n    <tr>\n      <th>47</th>\n      <td>スナック・キャンディー__スナック</td>\n      <td>NaN</td>\n      <td>チョコ・ビスクラ__チョコレート</td>\n      <td>NaN</td>\n      <td>2.129839</td>\n    </tr>\n    <tr>\n      <th>49</th>\n      <td>チョコ・ビスクラ__ビスクラ</td>\n      <td>NaN</td>\n      <td>スナック・キャンディー__スナック</td>\n      <td>NaN</td>\n      <td>2.113212</td>\n    </tr>\n    <tr>\n      <th>170</th>\n      <td>スナック・キャンディー__スナック</td>\n      <td>NaN</td>\n      <td>麺類__カップ麺</td>\n      <td>NaN</td>\n      <td>1.541037</td>\n    </tr>\n    <tr>\n      <th>171</th>\n      <td>麺類__カップ麺</td>\n      <td>NaN</td>\n      <td>スナック・キャンディー__スナック</td>\n      <td>NaN</td>\n      <td>1.541037</td>\n    </tr>\n    <tr>\n      <th>187</th>\n      <td>日配飲料__果汁・野菜</td>\n      <td>NaN</td>\n      <td>スナック・キャンディー__スナック</td>\n      <td>NaN</td>\n      <td>1.363679</td>\n    </tr>\n    <tr>\n      <th>191</th>\n      <td>ホールセールパン__菓子パン(ホールセールパン)</td>\n      <td>NaN</td>\n      <td>スナック・キャンディー__スナック</td>\n      <td>NaN</td>\n      <td>1.357403</td>\n    </tr>\n    <tr>\n      <th>194</th>\n      <td>ホールセールパン__食卓パン(ホールセールパン)</td>\n      <td>NaN</td>\n      <td>スナック・キャンディー__スナック</td>\n      <td>NaN</td>\n      <td>1.343085</td>\n    </tr>\n    <tr>\n      <th>198</th>\n      <td>ホールセールパン__食パン(ホールセールパン)</td>\n      <td>NaN</td>\n      <td>スナック・キャンディー__スナック</td>\n      <td>NaN</td>\n      <td>1.313340</td>\n    </tr>\n    <tr>\n      <th>201</th>\n      <td>日配飲料__牛乳</td>\n      <td>NaN</td>\n      <td>チョコ・ビスクラ__チョコレート</td>\n      <td>NaN</td>\n      <td>1.302922</td>\n    </tr>\n    <tr>\n      <th>202</th>\n      <td>玉子__玉子</td>\n      <td>NaN</td>\n      <td>スナック・キャンディー__スナック</td>\n      <td>NaN</td>\n      <td>1.256739</td>\n    </tr>\n    <tr>\n      <th>204</th>\n      <td>和日配__納豆</td>\n      <td>NaN</td>\n      <td>スナック・キャンディー__スナック</td>\n      <td>NaN</td>\n      <td>1.255949</td>\n    </tr>\n    <tr>\n      <th>208</th>\n      <td>デザート__ヨーグルト</td>\n      <td>NaN</td>\n      <td>スナック・キャンディー__スナック</td>\n      <td>NaN</td>\n      <td>1.241186</td>\n    </tr>\n    <tr>\n      <th>210</th>\n      <td>野菜__きのこ類</td>\n      <td>NaN</td>\n      <td>スナック・キャンディー__スナック</td>\n      <td>NaN</td>\n      <td>1.233453</td>\n    </tr>\n    <tr>\n      <th>213</th>\n      <td>日配飲料__牛乳</td>\n      <td>NaN</td>\n      <td>スナック・キャンディー__スナック</td>\n      <td>NaN</td>\n      <td>1.232356</td>\n    </tr>\n    <tr>\n      <th>214</th>\n      <td>野菜__土物類</td>\n      <td>NaN</td>\n      <td>スナック・キャンディー__スナック</td>\n      <td>NaN</td>\n      <td>1.217876</td>\n    </tr>\n  </tbody>\n</table>\n</div>"
     },
     "metadata": {},
     "execution_count": 98
    }
   ],
   "source": [
    "a_rules1_.query('(consequents_name_1 in @TARGET_CATEGORIES) or (consequents_name_2 in @TARGET_CATEGORIES)').head(20)"
   ]
  },
  {
   "cell_type": "code",
   "execution_count": 95,
   "metadata": {},
   "outputs": [
    {
     "output_type": "execute_result",
     "data": {
      "text/plain": [
       "['ビール系__RTD',\n",
       " 'ビール系__ビール系',\n",
       " 'ビール系__ノンアルコール',\n",
       " 'スナック・キャンディー__スナック',\n",
       " 'チョコ・ビスクラ__チョコレート',\n",
       " 'スナック・キャンディー__ガム',\n",
       " 'スナック・キャンディー__シリアル',\n",
       " 'アイスクリーム__ノベルティー',\n",
       " '和菓子__米菓',\n",
       " '水・炭酸水__大型PET（炭酸水）',\n",
       " '水・炭酸水__小型PET（炭酸水）',\n",
       " '缶飲料__コーヒー（缶）',\n",
       " '小型PET__コーヒー（小型PET）',\n",
       " '大型PET__無糖茶（大型PET）',\n",
       " '麺類__カップ麺']"
      ]
     },
     "metadata": {},
     "execution_count": 95
    }
   ],
   "source": [
    "TARGET_CATEGORIES"
   ]
  },
  {
   "cell_type": "code",
   "execution_count": null,
   "metadata": {},
   "outputs": [],
   "source": []
  }
 ]
}